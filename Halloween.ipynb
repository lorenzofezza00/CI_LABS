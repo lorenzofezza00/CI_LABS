{
 "cells": [
  {
   "cell_type": "markdown",
   "id": "185f9931-b384-4fdc-a5b2-eea785428bb8",
   "metadata": {},
   "source": [
    "Copyright **`(c)`** 2023 Giovanni Squillero `<giovanni.squillero@polito.it>`  \n",
    "[`https://github.com/squillero/computational-intelligence`](https://github.com/squillero/computational-intelligence)  \n",
    "Free for personal or classroom use; see [`LICENSE.md`](https://github.com/squillero/computational-intelligence/blob/master/LICENSE.md) for details.  "
   ]
  },
  {
   "cell_type": "code",
   "execution_count": 1,
   "id": "3ffe7245-e849-41d0-9698-5f0e0b83fee9",
   "metadata": {},
   "outputs": [],
   "source": [
    "from itertools import product\n",
    "from random import random, randint, shuffle, seed, choice, randint\n",
    "import numpy as np\n",
    "from scipy import sparse\n",
    "from functools import reduce\n",
    "from collections import namedtuple\n",
    "from queue import PriorityQueue, SimpleQueue, LifoQueue\n",
    "from copy import copy"
   ]
  },
  {
   "cell_type": "code",
   "execution_count": 2,
   "id": "6f03bd67-78a0-4d72-95b7-77a918727b91",
   "metadata": {},
   "outputs": [],
   "source": [
    "def make_set_covering_problem(num_points, num_sets, density):\n",
    "    \"\"\"Returns a sparse array where rows are sets and columns are the covered items\"\"\"\n",
    "    seed(num_points*2654435761+num_sets+density)\n",
    "    sets = sparse.lil_array((num_sets, num_points), dtype=bool)\n",
    "    for s, p in product(range(num_sets), range(num_points)):\n",
    "        if random() < density:\n",
    "            sets[s, p] = True\n",
    "    for p in range(num_points):\n",
    "        sets[randint(0, num_sets-1), p] = True\n",
    "    return sets"
   ]
  },
  {
   "cell_type": "markdown",
   "id": "82b0be37-21d9-492d-9a1d-cf0cdf0ddd76",
   "metadata": {},
   "source": [
    "# Halloween Challenge\n",
    "\n",
    "Find the best solution with the fewest calls to the fitness functions for:\n",
    "\n",
    "* `num_points = [100, 1_000, 5_000]`\n",
    "* `num_sets = num_points`\n",
    "* `density = [.3, .7]` "
   ]
  },
  {
   "cell_type": "code",
   "execution_count": 3,
   "id": "221ffdba-5d3d-48cc-bd08-45ccc9366ea6",
   "metadata": {},
   "outputs": [
    {
     "name": "stdout",
     "output_type": "stream",
     "text": [
      "Element at row=42 and column=42: True\n"
     ]
    }
   ],
   "source": [
    "NUM_SETS = 5_000\n",
    "DENSITY = .3\n",
    "PROBLEM_SIZE = NUM_POINTS = NUM_SETS\n",
    "x = make_set_covering_problem(NUM_POINTS, NUM_SETS, DENSITY)\n",
    "print(\"Element at row=42 and column=42:\", x[42, 42])"
   ]
  },
  {
   "cell_type": "code",
   "execution_count": 4,
   "id": "6492337b-8429-472d-9c3e-c79c5b46da54",
   "metadata": {},
   "outputs": [],
   "source": [
    "def fitness2(state):\n",
    "    cost = sum(state)\n",
    "    valid = np.sum(\n",
    "        reduce(\n",
    "            np.logical_or,\n",
    "            [np.array(x.getrow(i).toarray()[0]) for i, t in enumerate(state) if t],\n",
    "            np.array([False for _ in range(PROBLEM_SIZE)]),\n",
    "        )\n",
    "    )\n",
    "    return valid, -cost\n",
    "\n",
    "fitness = fitness2"
   ]
  },
  {
   "cell_type": "markdown",
   "id": "a832a2ae",
   "metadata": {},
   "source": [
    "La funzione tweak fornita dal professore prende e toglie randomicamente i set dalla soluzione.\n",
    "\n",
    "Un modo intelligente per scalare la collina sarebbe:\n",
    " * aggiungere un set che copre nuovi punti (perche mi avvicina a goal)\n",
    " * scambiare un set che copre dei punti gia coperti con un altro set che copre nuovi punti\n",
    " * rimuovere un set che copre dei punti gia coperti (ovvero che non mi avvicina a goal)"
   ]
  },
  {
   "cell_type": "code",
   "execution_count": 5,
   "id": "328b27d7",
   "metadata": {},
   "outputs": [],
   "source": [
    "def tweak(state, ffid):\n",
    "    new_state = copy(state)\n",
    "    # invece che prendere uno a caso (weak causality), prendo uno che potenzialmente potrebbe avvicinarmi alla soluzione\n",
    "    # filtro prendo per primi i set che all'indice in cui é vuoto hanno true e hanno più true\n",
    "\n",
    "    #index = randint(0, PROBLEM_SIZE - 1)\n",
    "    #new_state[index] = not new_state[index]\n",
    "    rows_with_true_at_first_false_index = np.where(np.array(x[:, [ffid]].toarray()))[0]\n",
    "\n",
    "    # Trova le righe che non sono presenti in new_state\n",
    "    # in teoria posso toglierlo perche tanto non ci sono righe che hanno true in ffid in new_state\n",
    "    rows_not_in_new_state = np.setdiff1d(rows_with_true_at_first_false_index, np.where(new_state))\n",
    "\n",
    "    # Seleziona casualmente una riga tra quelle rimanenti\n",
    "    if len(rows_not_in_new_state) > 0:\n",
    "        random_row_index = np.random.choice(rows_not_in_new_state)\n",
    "        #print(\"Riga casuale con il primo indice di colonna True non presente in new_state:\")\n",
    "        new_state[random_row_index] = not new_state[random_row_index]\n",
    "    else:\n",
    "        print(\"Nessuna riga soddisfa i criteri specificati.\")\n",
    "        random_row_index = np.random.choice(np.where(new_state))\n",
    "        new_state[random_row_index] = not new_state[random_row_index]\n",
    "        #in questo caso dovrò togliere un elemento da new_state, per ora uno a caso \n",
    "        # ma potrei vedere per uno che non mi toglie troppi punti coperti\n",
    "    return new_state"
   ]
  },
  {
   "cell_type": "code",
   "execution_count": 6,
   "id": "da1ca801",
   "metadata": {},
   "outputs": [
    {
     "name": "stdout",
     "output_type": "stream",
     "text": [
      "(0, 0)\n",
      "1\n",
      "2\n",
      "7\n",
      "8\n",
      "16\n",
      "22\n",
      "66\n",
      "135\n",
      "158\n",
      "195\n",
      "215\n",
      "422\n",
      "452\n",
      "800\n",
      "828\n",
      "919\n",
      "1499\n",
      "3019\n",
      "3715\n",
      "3809\n",
      "Tutti i valori sono veri.\n",
      "20\n",
      "21\n"
     ]
    }
   ],
   "source": [
    "current_state = [choice([False, False, False, False, False, False]) for _ in range(NUM_SETS)]\n",
    "print(fitness(current_state))\n",
    "\n",
    "cnt = 0\n",
    "diff = 0\n",
    "first_false_index = 0\n",
    "fit_cnt = 0\n",
    "\n",
    "for step in range(10_000):\n",
    "    new_state = tweak(current_state, first_false_index)\n",
    "    fn = fitness(new_state)\n",
    "    fc = fitness(current_state)\n",
    "    fit_cnt += 1\n",
    "    if fn >= fc:\n",
    "        #diff potrebbe servirmi come criterio per la tweak\n",
    "        #diff = (fn[0]-fc[0],  fn[1] - fc[1])\n",
    "        #print(diff)\n",
    "        # per ogni volta che mi avvicino (e quindi non in tutte le iterazioni in tweak)\n",
    "        # calcolo il 1° indice false da riempire\n",
    "        #sto calcolo potrei riciclarlo da fitness ritornandolo facendolo insieme alla sum per accorciare i tempi?\n",
    "        result_of_reduce = reduce(\n",
    "            np.logical_or,\n",
    "            [np.array(x.getrow(i).toarray()[0]) for i, t in enumerate(new_state) if t],\n",
    "            np.array([False for _ in range(PROBLEM_SIZE)]),\n",
    "        )\n",
    "\n",
    "        first_false_index = None\n",
    "        for i, value in enumerate(result_of_reduce):\n",
    "            #print(i, value)\n",
    "            if not value:\n",
    "                first_false_index = i\n",
    "                print(first_false_index)\n",
    "                break\n",
    "\n",
    "        # Trova l'indice del primo valore falso (False)\n",
    "        if first_false_index is None:\n",
    "            print(\"Tutti i valori sono veri.\")\n",
    "            current_state = new_state\n",
    "            break\n",
    "\n",
    "        cnt += 1\n",
    "        current_state = new_state\n",
    "        #print(fitness(current_state))\n",
    "\n",
    "print(f\"Steps: {cnt}\")\n",
    "print(f\"Fitness calls: {fit_cnt}\")"
   ]
  },
  {
   "cell_type": "code",
   "execution_count": 7,
   "id": "f5753894",
   "metadata": {},
   "outputs": [
    {
     "name": "stdout",
     "output_type": "stream",
     "text": [
      "solution lenght: 21\n",
      "solution: [ True  True  True ...  True  True  True]\n",
      "Tutti i valori sono veri.\n",
      "317\n",
      "634\n",
      "656\n",
      "674\n",
      "853\n",
      "1063\n",
      "1388\n",
      "1454\n",
      "1607\n",
      "1783\n",
      "1865\n",
      "1990\n",
      "1991\n",
      "3763\n",
      "3792\n",
      "3818\n",
      "4127\n",
      "4473\n",
      "4541\n",
      "4747\n",
      "4983\n"
     ]
    }
   ],
   "source": [
    "#current_state\n",
    "red = reduce(\n",
    "            np.logical_or,\n",
    "            [np.array(x.getrow(i).toarray()[0]) for i, t in enumerate(current_state) if t],\n",
    "            np.array([False for _ in range(PROBLEM_SIZE)]),\n",
    "        )\n",
    "print(f\"solution lenght: {np.sum(current_state)}\")\n",
    "print(f\"solution: {red}\")\n",
    "if np.all(red): \n",
    "    print(\"Tutti i valori sono veri.\")\n",
    "#for i in range(len(current_state)):\n",
    "#    if current_state[i]:\n",
    "#        print(i)\n",
    "        #print(np.array(x.getrow(i).toarray()[0]))"
   ]
  }
 ],
 "metadata": {
  "kernelspec": {
   "display_name": "Python 3 (ipykernel)",
   "language": "python",
   "name": "python3"
  },
  "language_info": {
   "codemirror_mode": {
    "name": "ipython",
    "version": 3
   },
   "file_extension": ".py",
   "mimetype": "text/x-python",
   "name": "python",
   "nbconvert_exporter": "python",
   "pygments_lexer": "ipython3",
   "version": "3.12.0"
  }
 },
 "nbformat": 4,
 "nbformat_minor": 5
}

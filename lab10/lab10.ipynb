{
 "cells": [
  {
   "cell_type": "markdown",
   "metadata": {},
   "source": [
    "Copyright **`(c)`** 2023 Giovanni Squillero `<giovanni.squillero@polito.it>`  \n",
    "[`https://github.com/squillero/computational-intelligence`](https://github.com/squillero/computational-intelligence)  \n",
    "Free for personal or classroom use; see [`LICENSE.md`](https://github.com/squillero/computational-intelligence/blob/master/LICENSE.md) for details.  "
   ]
  },
  {
   "cell_type": "markdown",
   "metadata": {},
   "source": [
    "# LAB10\n",
    "\n",
    "Use reinforcement learning to devise a tic-tac-toe player.\n",
    "\n",
    "### Deadlines:\n",
    "\n",
    "* Submission: [Dies Natalis Solis Invicti](https://en.wikipedia.org/wiki/Sol_Invictus)\n",
    "* Reviews: [Befana](https://en.wikipedia.org/wiki/Befana)\n",
    "\n",
    "Notes:\n",
    "\n",
    "* Reviews will be assigned  on Monday, December 4\n",
    "* You need to commit in order to be selected as a reviewer (ie. better to commit an empty work than not to commit)"
   ]
  },
  {
   "cell_type": "code",
   "execution_count": 92,
   "metadata": {},
   "outputs": [],
   "source": [
    "from itertools import combinations\n",
    "from collections import namedtuple, defaultdict\n",
    "from random import choice, random\n",
    "from copy import deepcopy\n",
    "from math import factorial\n",
    "\n",
    "from tqdm.auto import tqdm\n",
    "import numpy as np"
   ]
  },
  {
   "cell_type": "code",
   "execution_count": 93,
   "metadata": {},
   "outputs": [],
   "source": [
    "State = namedtuple('State', ['x', 'o'])"
   ]
  },
  {
   "cell_type": "code",
   "execution_count": 94,
   "metadata": {},
   "outputs": [],
   "source": [
    "MAGIC = [2, 7, 6, 9, 5, 1, 4, 3, 8]"
   ]
  },
  {
   "cell_type": "code",
   "execution_count": 95,
   "metadata": {},
   "outputs": [],
   "source": [
    "def print_board(pos):\n",
    "    \"\"\"Nicely prints the board\"\"\"\n",
    "    for r in range(3):\n",
    "        for c in range(3):\n",
    "            i = r * 3 + c\n",
    "            if MAGIC[i] in pos.x:\n",
    "                print('X', end='')\n",
    "            elif MAGIC[i] in pos.o:\n",
    "                print('O', end='')\n",
    "            else:\n",
    "                print('.', end='')\n",
    "        print()\n",
    "    print()"
   ]
  },
  {
   "cell_type": "code",
   "execution_count": 96,
   "metadata": {},
   "outputs": [],
   "source": [
    "def win(elements):\n",
    "    \"\"\"Checks is elements is winning\"\"\"\n",
    "    return any(sum(c) == 15 for c in combinations(elements, 3))\n",
    "\n",
    "def state_value(pos: State):\n",
    "    \"\"\"Evaluate state: +1 first player wins\"\"\"\n",
    "    if win(pos.x):\n",
    "        return 1\n",
    "    elif win(pos.o):\n",
    "        return -1\n",
    "    else:\n",
    "        return 0\n",
    "    \n",
    "    "
   ]
  },
  {
   "cell_type": "code",
   "execution_count": 97,
   "metadata": {},
   "outputs": [],
   "source": [
    "def random_game():\n",
    "    trajectory = list()\n",
    "    state = State(set(), set())\n",
    "    available = set(range(1, 9+1))\n",
    "    while available:\n",
    "        x = choice(list(available))\n",
    "        state.x.add(x)\n",
    "        trajectory.append(deepcopy(state))\n",
    "        available.remove(x)\n",
    "        if win(state.x) or not available:\n",
    "            break\n",
    "\n",
    "        o = choice(list(available))\n",
    "        state.o.add(o)\n",
    "        trajectory.append(deepcopy(state))\n",
    "        available.remove(o)\n",
    "        if win(state.o):\n",
    "            break\n",
    "    return trajectory"
   ]
  },
  {
   "cell_type": "code",
   "execution_count": 98,
   "metadata": {},
   "outputs": [
    {
     "data": {
      "text/plain": [
       "'value_dictionary = defaultdict(float)\\nhit_state = defaultdict(int)\\nepsilon = 0.001\\n\\nfor steps in tqdm(range(500_000)):\\n    trajectory = random_game()\\n    final_reward = state_value(trajectory[-1])\\n    for state in trajectory:\\n        hashable_state = (frozenset(state.x), frozenset(state.o))\\n        hit_state[hashable_state] += 1\\n        value_dictionary[hashable_state] = value_dictionary[\\n            hashable_state\\n        ] + epsilon * (final_reward - value_dictionary[hashable_state])'"
      ]
     },
     "execution_count": 98,
     "metadata": {},
     "output_type": "execute_result"
    }
   ],
   "source": [
    "\"\"\"value_dictionary = defaultdict(float)\n",
    "hit_state = defaultdict(int)\n",
    "epsilon = 0.001\n",
    "\n",
    "for steps in tqdm(range(500_000)):\n",
    "    trajectory = random_game()\n",
    "    final_reward = state_value(trajectory[-1])\n",
    "    for state in trajectory:\n",
    "        hashable_state = (frozenset(state.x), frozenset(state.o))\n",
    "        hit_state[hashable_state] += 1\n",
    "        value_dictionary[hashable_state] = value_dictionary[\n",
    "            hashable_state\n",
    "        ] + epsilon * (final_reward - value_dictionary[hashable_state])\"\"\""
   ]
  },
  {
   "cell_type": "code",
   "execution_count": 99,
   "metadata": {},
   "outputs": [
    {
     "name": "stdout",
     "output_type": "stream",
     "text": [
      "0.0\n",
      "[0. 0. 0. 0. 0. 0. 0. 0. 0.]\n"
     ]
    }
   ],
   "source": [
    "n_actions = 9\n",
    "q_table = defaultdict(float)\n",
    "state = State(set(), set())\n",
    "hashable_state = (frozenset(state.x), frozenset(state.o))\n",
    "print(q_table[hashable_state])\n",
    "q_table[hashable_state] = np.zeros(n_actions)\n",
    "print(q_table[hashable_state])"
   ]
  },
  {
   "cell_type": "code",
   "execution_count": 100,
   "metadata": {},
   "outputs": [],
   "source": [
    "alpha = 0.1\n",
    "gamma = 0.9\n",
    "fixed_epsilon = 0.2\n",
    "epsilon = fixed_epsilon\n",
    "\n",
    "class agent:\n",
    "  def __init__(self):\n",
    "    states = factorial(9)\n",
    "    # states = list(range(1, 9+1))\n",
    "    actions = 9\n",
    "    self.q_table = defaultdict(None)\n",
    "  \n",
    "  def get_action(self, state, available_actions):\n",
    "    if np.random.rand() < epsilon:\n",
    "      action =  choice(available_actions)\n",
    "      available_actions.remove(action)\n",
    "      return action, available_actions\n",
    "    else:\n",
    "      hashable_state = (frozenset(state.x), frozenset(state.o))\n",
    "    \n",
    "      if self.q_table[hashable_state] == None:\n",
    "        self.q_table[hashable_state] = np.zeros(9)\n",
    "      best_action = np.argmax(self.q_table[hashable_state])\n",
    "      available_actions.remove(best_action)\n",
    "      return best_action, available_actions\n",
    "  \n",
    "  def update(self, state, action, reward, next_state, done):\n",
    "    if done:\n",
    "      target_value = reward\n",
    "    else:\n",
    "      hashable_next_state = (frozenset(next_state.x), frozenset(next_state.o))\n",
    "      target_value = reward + gamma * np.max(self.q_table[hashable_next_state])\n",
    "    \n",
    "    hashable_state = (frozenset(state.x), frozenset(state.o))\n",
    "    self.q_table[hashable_state, action] = self.q_table[hashable_state, action] + alpha * (target_value - self.q_table[hashable_state, action])\n",
    "    return\n",
    "  \n",
    "  def perform_action(action, state):\n",
    "    if state.x:\n",
    "      state.o.add(action)\n",
    "    else:\n",
    "      state.x.add(action)\n",
    "    return state\n",
    "  \n",
    "  def get_reward(state):\n",
    "    if win(state.x):\n",
    "      return 1\n",
    "    elif win(state.o):\n",
    "      return -1\n",
    "    else:\n",
    "      return 0\n",
    "  "
   ]
  },
  {
   "cell_type": "code",
   "execution_count": 101,
   "metadata": {},
   "outputs": [
    {
     "ename": "KeyError",
     "evalue": "(frozenset(), frozenset())",
     "output_type": "error",
     "traceback": [
      "\u001b[1;31m---------------------------------------------------------------------------\u001b[0m",
      "\u001b[1;31mKeyError\u001b[0m                                  Traceback (most recent call last)",
      "Cell \u001b[1;32mIn[101], line 5\u001b[0m\n\u001b[0;32m      3\u001b[0m available_actions \u001b[38;5;241m=\u001b[39m \u001b[38;5;28mlist\u001b[39m(\u001b[38;5;28mrange\u001b[39m(\u001b[38;5;241m9\u001b[39m))\n\u001b[0;32m      4\u001b[0m \u001b[38;5;28;01mwhile\u001b[39;00m \u001b[38;5;129;01mnot\u001b[39;00m done:\n\u001b[1;32m----> 5\u001b[0m   action, available_actions \u001b[38;5;241m=\u001b[39m \u001b[43ma\u001b[49m\u001b[38;5;241;43m.\u001b[39;49m\u001b[43mget_action\u001b[49m\u001b[43m(\u001b[49m\u001b[43mstate\u001b[49m\u001b[43m,\u001b[49m\u001b[43m \u001b[49m\u001b[43mavailable_actions\u001b[49m\u001b[43m)\u001b[49m\n\u001b[0;32m      6\u001b[0m   next_state \u001b[38;5;241m=\u001b[39m a\u001b[38;5;241m.\u001b[39mperform_action(action, deepcopy(state))\n\u001b[0;32m      7\u001b[0m   reward \u001b[38;5;241m=\u001b[39m a\u001b[38;5;241m.\u001b[39mget_reward(state)\n",
      "Cell \u001b[1;32mIn[100], line 21\u001b[0m, in \u001b[0;36magent.get_action\u001b[1;34m(self, state, available_actions)\u001b[0m\n\u001b[0;32m     18\u001b[0m \u001b[38;5;28;01melse\u001b[39;00m:\n\u001b[0;32m     19\u001b[0m   hashable_state \u001b[38;5;241m=\u001b[39m (\u001b[38;5;28mfrozenset\u001b[39m(state\u001b[38;5;241m.\u001b[39mx), \u001b[38;5;28mfrozenset\u001b[39m(state\u001b[38;5;241m.\u001b[39mo))\n\u001b[1;32m---> 21\u001b[0m   \u001b[38;5;28;01mif\u001b[39;00m \u001b[38;5;28;43mself\u001b[39;49m\u001b[38;5;241;43m.\u001b[39;49m\u001b[43mq_table\u001b[49m\u001b[43m[\u001b[49m\u001b[43mhashable_state\u001b[49m\u001b[43m]\u001b[49m \u001b[38;5;241m==\u001b[39m \u001b[38;5;28;01mNone\u001b[39;00m:\n\u001b[0;32m     22\u001b[0m     \u001b[38;5;28mself\u001b[39m\u001b[38;5;241m.\u001b[39mq_table[hashable_state] \u001b[38;5;241m=\u001b[39m np\u001b[38;5;241m.\u001b[39mzeros(\u001b[38;5;241m9\u001b[39m)\n\u001b[0;32m     23\u001b[0m   best_action \u001b[38;5;241m=\u001b[39m np\u001b[38;5;241m.\u001b[39margmax(\u001b[38;5;28mself\u001b[39m\u001b[38;5;241m.\u001b[39mq_table[hashable_state])\n",
      "\u001b[1;31mKeyError\u001b[0m: (frozenset(), frozenset())"
     ]
    }
   ],
   "source": [
    "a = agent()\n",
    "done = False\n",
    "available_actions = list(range(9))\n",
    "while not done:\n",
    "  action, available_actions = a.get_action(state, available_actions)\n",
    "  next_state = a.perform_action(action, deepcopy(state))\n",
    "  reward = a.get_reward(state)\n",
    "  if reward == 1:\n",
    "    done = True\n",
    "  a.update(state, action, reward, next_state, done)\n",
    "  "
   ]
  }
 ],
 "metadata": {
  "kernelspec": {
   "display_name": "ci-fLJ3OwGs-py3.12",
   "language": "python",
   "name": "python3"
  },
  "language_info": {
   "codemirror_mode": {
    "name": "ipython",
    "version": 3
   },
   "file_extension": ".py",
   "mimetype": "text/x-python",
   "name": "python",
   "nbconvert_exporter": "python",
   "pygments_lexer": "ipython3",
   "version": "3.12.0"
  }
 },
 "nbformat": 4,
 "nbformat_minor": 2
}

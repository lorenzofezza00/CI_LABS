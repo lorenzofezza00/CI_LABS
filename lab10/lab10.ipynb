{
 "cells": [
  {
   "cell_type": "markdown",
   "metadata": {},
   "source": [
    "Copyright **`(c)`** 2023 Giovanni Squillero `<giovanni.squillero@polito.it>`  \n",
    "[`https://github.com/squillero/computational-intelligence`](https://github.com/squillero/computational-intelligence)  \n",
    "Free for personal or classroom use; see [`LICENSE.md`](https://github.com/squillero/computational-intelligence/blob/master/LICENSE.md) for details.  "
   ]
  },
  {
   "cell_type": "markdown",
   "metadata": {},
   "source": [
    "# LAB10\n",
    "\n",
    "Use reinforcement learning to devise a tic-tac-toe player.\n",
    "\n",
    "### Deadlines:\n",
    "\n",
    "* Submission: [Dies Natalis Solis Invicti](https://en.wikipedia.org/wiki/Sol_Invictus)\n",
    "* Reviews: [Befana](https://en.wikipedia.org/wiki/Befana)\n",
    "\n",
    "Notes:\n",
    "\n",
    "* Reviews will be assigned  on Monday, December 4\n",
    "* You need to commit in order to be selected as a reviewer (ie. better to commit an empty work than not to commit)"
   ]
  },
  {
   "cell_type": "code",
   "execution_count": 301,
   "metadata": {},
   "outputs": [],
   "source": [
    "from itertools import combinations\n",
    "from collections import namedtuple, defaultdict\n",
    "from random import choice, random\n",
    "from copy import deepcopy\n",
    "import json\n",
    "\n",
    "from tqdm.auto import tqdm\n",
    "import numpy as np"
   ]
  },
  {
   "cell_type": "code",
   "execution_count": 302,
   "metadata": {},
   "outputs": [],
   "source": [
    "State = namedtuple('State', ['x', 'o'])"
   ]
  },
  {
   "cell_type": "code",
   "execution_count": 303,
   "metadata": {},
   "outputs": [],
   "source": [
    "MAGIC = [2, 7, 6, 9, 5, 1, 4, 3, 8]"
   ]
  },
  {
   "cell_type": "code",
   "execution_count": 304,
   "metadata": {},
   "outputs": [],
   "source": [
    "class Color:\n",
    "    RESET = '\\033[0m'\n",
    "    RED = '\\033[91m'\n",
    "    GREEN = '\\033[92m'\n",
    "    YELLOW = '\\033[93m'\n",
    "    BLUE = '\\033[94m'\n",
    "    PURPLE = '\\033[95m'\n",
    "    CYAN = '\\033[96m'"
   ]
  },
  {
   "cell_type": "code",
   "execution_count": 305,
   "metadata": {},
   "outputs": [],
   "source": [
    "def print_board(pos):\n",
    "    \"\"\"Nicely prints the board\"\"\"\n",
    "    for r in range(3):\n",
    "        for c in range(3):\n",
    "            i = r * 3 + c\n",
    "            if MAGIC[i] in pos.x:\n",
    "                print('X', end='')\n",
    "            elif MAGIC[i] in pos.o:\n",
    "                print('O', end='')\n",
    "            else:\n",
    "                print('.', end='')\n",
    "        print()\n",
    "    print()"
   ]
  },
  {
   "cell_type": "code",
   "execution_count": 306,
   "metadata": {},
   "outputs": [],
   "source": [
    "def win(elements):\n",
    "    \"\"\"Checks is elements is winning\"\"\"\n",
    "    return any(sum(c) == 15 for c in combinations(elements, 3))\n",
    "\n",
    "def state_value(pos: State):\n",
    "    \"\"\"Evaluate state: +1 first player wins\"\"\"\n",
    "    if win(pos.x):\n",
    "        return 1\n",
    "    elif win(pos.o):\n",
    "        return -1\n",
    "    else:\n",
    "        return 0\n",
    "    \n",
    "    "
   ]
  },
  {
   "cell_type": "code",
   "execution_count": 307,
   "metadata": {},
   "outputs": [],
   "source": [
    "def random_game():\n",
    "    trajectory = list()\n",
    "    state = State(set(), set())\n",
    "    available = set(range(1, 9+1))\n",
    "    while available:\n",
    "        x = choice(list(available))\n",
    "        state.x.add(x)\n",
    "        trajectory.append(deepcopy(state))\n",
    "        available.remove(x)\n",
    "        if win(state.x) or not available:\n",
    "            break\n",
    "\n",
    "        o = choice(list(available))\n",
    "        state.o.add(o)\n",
    "        trajectory.append(deepcopy(state))\n",
    "        available.remove(o)\n",
    "        if win(state.o):\n",
    "            break\n",
    "    return trajectory"
   ]
  },
  {
   "cell_type": "code",
   "execution_count": 308,
   "metadata": {},
   "outputs": [
    {
     "data": {
      "text/plain": [
       "'value_dictionary = defaultdict(float)\\nhit_state = defaultdict(int)\\nepsilon = 0.001\\n\\nfor steps in tqdm(range(500_000)):\\n    trajectory = random_game()\\n    final_reward = state_value(trajectory[-1])\\n    for state in trajectory:\\n        hashable_state = (frozenset(state.x), frozenset(state.o))\\n        hit_state[hashable_state] += 1\\n        value_dictionary[hashable_state] = value_dictionary[\\n            hashable_state\\n        ] + epsilon * (final_reward - value_dictionary[hashable_state])'"
      ]
     },
     "execution_count": 308,
     "metadata": {},
     "output_type": "execute_result"
    }
   ],
   "source": [
    "\"\"\"value_dictionary = defaultdict(float)\n",
    "hit_state = defaultdict(int)\n",
    "epsilon = 0.001\n",
    "\n",
    "for steps in tqdm(range(500_000)):\n",
    "    trajectory = random_game()\n",
    "    final_reward = state_value(trajectory[-1])\n",
    "    for state in trajectory:\n",
    "        hashable_state = (frozenset(state.x), frozenset(state.o))\n",
    "        hit_state[hashable_state] += 1\n",
    "        value_dictionary[hashable_state] = value_dictionary[\n",
    "            hashable_state\n",
    "        ] + epsilon * (final_reward - value_dictionary[hashable_state])\"\"\""
   ]
  },
  {
   "cell_type": "code",
   "execution_count": 309,
   "metadata": {},
   "outputs": [],
   "source": [
    "alpha = 0.1\n",
    "gamma = 0.98\n",
    "fixed_epsilon = 0.2\n",
    "# fixed_epsilon = 0.      # when optimistic initial values\n",
    "# epsilon = fixed_epsilon\n",
    "# GLIE approach\n",
    "episodes = 200_000\n",
    "k = episodes\n",
    "eps_k = 0.1\n",
    "b = (eps_k * k) // (1 - eps_k)\n",
    "\n",
    "\n",
    "class agent:\n",
    "  def __init__(self):\n",
    "    # zero initialization\n",
    "    self.q_table = defaultdict(lambda: np.zeros(9, dtype=float))\n",
    "    # optimistic initial value\n",
    "    # self.q_table = defaultdict(lambda: np.full(9, 50, dtype=float))\n",
    "  \n",
    "  def get_action(self, state, available_actions, epsilon=fixed_epsilon):\n",
    "    '''print(\"Get : \")\n",
    "    print(f\"Epsilon : {epsilon}\")'''\n",
    "    if np.random.rand() < epsilon:\n",
    "      action =  choice(available_actions)\n",
    "      '''print(f\"{Color.YELLOW}rand action: {action+1}{Color.RESET}\")'''\n",
    "      return action\n",
    "    else:\n",
    "      hashable_state = (frozenset(state.x), frozenset(state.o))\n",
    "      '''print(f\"cumulative exp rew :\\t{self.q_table[hashable_state][available_actions]}\")'''\n",
    "      best_action_index = np.argmax(self.q_table[hashable_state][available_actions])\n",
    "      best_action_value = self.q_table[hashable_state][available_actions][best_action_index]\n",
    "      best_action = list(available_actions)[best_action_index]\n",
    "      '''print(f\"{Color.GREEN}best action val:{best_action_value},\\tbest action: {best_action+1}{Color.RESET}\")'''\n",
    "      return best_action\n",
    "  \n",
    "  def update(self, state, action, reward, next_state, done):\n",
    "    # print(f\"action : {action}\")\n",
    "    '''print(\"Update : \")'''\n",
    "    if done:\n",
    "      target_value = reward\n",
    "    else:\n",
    "      hashable_next_state = (frozenset(next_state.x), frozenset(next_state.o))\n",
    "      #print(f\"max : {np.max(gamma * self.q_table[hashable_next_state])}\")\n",
    "      target_value = reward + np.max(gamma * self.q_table[hashable_next_state])\n",
    "    \n",
    "    '''print(f\"t: {target_value}\")'''\n",
    "    \n",
    "    hashable_state = (frozenset(state.x), frozenset(state.o))\n",
    "    self.q_table[hashable_state][action] += (alpha * (target_value - self.q_table[hashable_state][action]))\n",
    "    '''print(f\"values : {self.q_table[hashable_state]}, value: {self.q_table[hashable_state][action]}\")'''\n",
    "    return\n",
    "    \n",
    "  def play(self, state, available_actions):\n",
    "    hashable_state = (frozenset(state.x), frozenset(state.o))\n",
    "    # print(f\"cumulative exp rew :\\t{self.q_table[hashable_state][available_actions]}\")\n",
    "    best_action_index = np.argmax(self.q_table[hashable_state][available_actions])\n",
    "    best_action_value = self.q_table[hashable_state][available_actions][best_action_index]\n",
    "    best_action = list(available_actions)[best_action_index]\n",
    "    # print(f\"{Color.GREEN}best action val:{best_action_value},\\tbest action: {best_action+1}{Color.RESET}\")\n",
    "    available_actions.remove(best_action)\n",
    "    return best_action, available_actions\n",
    "  \n",
    "  def save_q_table(self, filename):\n",
    "    q_table_dict = {str(key): value.tolist() for key, value in self.q_table.items()}\n",
    "    with open(filename, 'w') as file:\n",
    "      json.dump(q_table_dict, file)\n",
    "\n",
    "  def load_q_table(self, filename):\n",
    "    with open(filename, 'r') as file:\n",
    "      q_table_dict = json.load(file)\n",
    "\n",
    "    self.q_table = defaultdict(lambda: np.zeros(9, dtype=float))\n",
    "    for key, value in q_table_dict.items():\n",
    "      for i in range(9):\n",
    "        self.q_table[eval(key)] = np.array(value)\n",
    "\n",
    "  "
   ]
  },
  {
   "cell_type": "code",
   "execution_count": 310,
   "metadata": {},
   "outputs": [],
   "source": [
    "def perform_action(action, available_actions, state, turn):\n",
    "    done = False\n",
    "    if turn == 0:\n",
    "      state.o.add(action+1)\n",
    "    else:\n",
    "      state.x.add(action+1)\n",
    "    available_actions.remove(action)\n",
    "    if len(available_actions) == 0: done = True\n",
    "    return state, done\n",
    "\n",
    "target_vector = [2, 4, 6, 8]\n",
    "\n",
    "def get_reward(state, done, available_actions, turn=1):\n",
    "    if win(state.o):\n",
    "      '''print(\"win: o\")'''\n",
    "      return -100, True\n",
    "    reward = 0\n",
    "    count_combinations = 0\n",
    "\n",
    "    if turn == 1:\n",
    "      # if there is an action for o to win and x did not block it => reward -= 1\n",
    "      # o will perform it the next turn !\n",
    "      elements = list(state.o)\n",
    "      for act in available_actions:\n",
    "        elements.append(act+1)\n",
    "        if any(sum(c) == 15 for c in combinations(elements, 3)):\n",
    "          reward -= 3\n",
    "        elements.remove(act+1)\n",
    "\n",
    "    # if the action of x is blocking the winning of o => reward += 1\n",
    "    # if no action is blocking the winning of o => reward = -10\n",
    "    for x in state.x:\n",
    "      elements = list(state.o)\n",
    "      elements.append(x)\n",
    "      count_combinations += sum(1 for c in combinations(elements, 3) if sum(c) == 15)\n",
    "      elements.remove(x)\n",
    "    reward += count_combinations\n",
    "    # if x sets 3 elements at the corner (config that facilitates the win)\n",
    "    reward += sum(1 for c in combinations(state.x, 3) if c in target_vector)\n",
    "        \n",
    "    if win(state.x):\n",
    "      '''print(\"win: x\")'''\n",
    "      reward += 50\n",
    "      return reward, True\n",
    "    else:\n",
    "      return reward, done\n",
    "    \n",
    "def my_player(state, available_actions, flag):\n",
    "   # random player\n",
    "  action = choice(available_actions)\n",
    "  # win if you can\n",
    "  if len(state.o) >= 2 and not any(sum(c) == 15 for c in combinations(state.o, 3)):\n",
    "    elements = list(state.o)\n",
    "    '''print(elements)'''\n",
    "    for act in available_actions:\n",
    "      elements.append(act+1)\n",
    "      '''print(elements)'''\n",
    "      if any(sum(c) == 15 for c in combinations(elements, 3)):\n",
    "        action = act\n",
    "        '''print(act+1)'''\n",
    "        flag = 1\n",
    "        return action, flag\n",
    "      elements.remove(act+1)\n",
    "  # if you can block the winning do it\n",
    "  for act in available_actions:\n",
    "    elements = list(state.x)\n",
    "    elements.append(act+1)\n",
    "    if win(elements):  # if the action make x win => prevent it\n",
    "      action = act\n",
    "      '''print_board(state)\n",
    "      print(act+1)'''\n",
    "      return action, flag\n",
    "    elements.remove(act+1)\n",
    "      \n",
    "  return action, flag\n",
    "    "
   ]
  },
  {
   "cell_type": "code",
   "execution_count": 311,
   "metadata": {},
   "outputs": [
    {
     "data": {
      "application/vnd.jupyter.widget-view+json": {
       "model_id": "ccb9e0c8b2ec4dd1b4f8c06707c0145c",
       "version_major": 2,
       "version_minor": 0
      },
      "text/plain": [
       "  0%|          | 0/10 [00:00<?, ?it/s]"
      ]
     },
     "metadata": {},
     "output_type": "display_data"
    }
   ],
   "source": [
    "import matplotlib.pyplot as plt\n",
    "# epsilon = fixed_epsilon\n",
    "a = agent()\n",
    "hist  = np.zeros(10)\n",
    "for i in tqdm(range(10)):\n",
    "  state = State(set(), set())\n",
    "  done = False\n",
    "  available_actions = list(range(9))\n",
    "  turn = 1\n",
    "  #turn = np.random.choice([0,1])\n",
    "  '''print(f\"starts: {'o' if turn == 0 else 'x'}\")'''\n",
    "  state = State(set(), set())\n",
    "  done = False\n",
    "  available_actions = list(range(9))\n",
    "  epsilon = 0\n",
    "  while not done:\n",
    "    action = a.get_action(state, available_actions, epsilon)\n",
    "    # print(f\"actual s: {state}\")\n",
    "    next_state, done = perform_action(action, available_actions, deepcopy(state), turn)\n",
    "    # print(f\"turn: {'o' if turn == 0 else 'x'}\")\n",
    "    # print(f\"action: {action+1}\")\n",
    "    # print(f\"s:{state}, ns:{next_state}\")\n",
    "    '''print_board(state)\n",
    "    print_board(next_state)'''\n",
    "    turn = 1- turn\n",
    "    # print(f\"next s: {next_state}\")\n",
    "    reward, done = get_reward(next_state, done, available_actions)\n",
    "    a.update(state, action, reward, next_state, done)\n",
    "    state = next_state\n",
    "    '''print(\"----------------------------------------------\")'''\n",
    "    if reward == 1: hist[i] = 1\n",
    "    #if done:  print_board(state)"
   ]
  },
  {
   "cell_type": "code",
   "execution_count": 312,
   "metadata": {},
   "outputs": [
    {
     "data": {
      "text/plain": [
       "'print_board(state)\\nprint(act)'"
      ]
     },
     "execution_count": 312,
     "metadata": {},
     "output_type": "execute_result"
    }
   ],
   "source": [
    "a = agent()\n",
    "state = State(set(), set())\n",
    "done = False\n",
    "available_actions = list(range(9))\n",
    "turn = 1\n",
    "act = list()\n",
    "while not done:\n",
    "  action = a.get_action(state, available_actions)\n",
    "  '''print(f\"actual s: {state}\")'''\n",
    "  next_state, done = perform_action(action, available_actions, deepcopy(state), turn)\n",
    "  act.append(action+1)\n",
    "  '''print(f\"turn: {'o' if turn == 0 else 'x'}\")\n",
    "  print(f\"action: {action+1}\")\n",
    "  print_board(state)\n",
    "  print_board(next_state)'''\n",
    "  turn = 1- turn\n",
    "  '''print(f\"next s: {next_state}\")'''\n",
    "  reward, done = get_reward(next_state, done, available_actions)\n",
    "  '''if done: print(\"done\")'''\n",
    "  a.update(state, action, reward, next_state, done)\n",
    "  state = next_state\n",
    "\n",
    "'''print_board(state)\n",
    "print(act)'''"
   ]
  },
  {
   "cell_type": "markdown",
   "metadata": {},
   "source": [
    "## Training"
   ]
  },
  {
   "cell_type": "code",
   "execution_count": 313,
   "metadata": {},
   "outputs": [
    {
     "data": {
      "application/vnd.jupyter.widget-view+json": {
       "model_id": "9c8b7604c7b440e2841d5bc1a5643207",
       "version_major": 2,
       "version_minor": 0
      },
      "text/plain": [
       "  0%|          | 0/200000 [00:00<?, ?it/s]"
      ]
     },
     "metadata": {},
     "output_type": "display_data"
    }
   ],
   "source": [
    "import matplotlib.pyplot as plt\n",
    "# epsilon = fixed_epsilon\n",
    "saves = 0\n",
    "a = agent()\n",
    "hist  = np.zeros(episodes)\n",
    "for i in tqdm(range(episodes)):\n",
    "  state = State(set(), set())\n",
    "  done = False\n",
    "  available_actions = list(range(9))\n",
    "  #turn = 1\n",
    "  turn = np.random.choice([0,1])\n",
    "  '''print(f\"starts: {'o' if turn == 0 else 'x'}\")'''\n",
    "  state = State(set(), set())\n",
    "  done = False\n",
    "  available_actions = list(range(9))\n",
    "  epsilon = b / (b + i)\n",
    "  while not done:\n",
    "    flag = 0\n",
    "    if turn == 1:\n",
    "      # epsilon greedy player\n",
    "      action = a.get_action(state, available_actions, epsilon)\n",
    "      # fixed eps\n",
    "      # action = a.get_action(state, available_actions)\n",
    "    else:\n",
    "      action, flag = my_player(state, available_actions, flag)\n",
    "    # print(f\"actual s: {state}\")\n",
    "    next_state, done = perform_action(action, available_actions, deepcopy(state), turn)\n",
    "    '''if flag==1:\n",
    "      print_board(next_state)'''\n",
    "    # print(f\"turn: {'o' if turn == 0 else 'x'}\")\n",
    "    # print(f\"action: {action+1}\")\n",
    "    # print(f\"s:{state}, ns:{next_state}\")\n",
    "    # print_board(state)\n",
    "    # print_board(next_state)\n",
    "    # print(f\"next s: {next_state}\")\n",
    "    reward, done = get_reward(next_state, done, available_actions, turn)\n",
    "    '''if flag == 1 and done: print(\"vinto o scelta\")'''\n",
    "    a.update(state, action, reward, next_state, done)\n",
    "    state = next_state\n",
    "    if reward == 1: hist[i] = 1\n",
    "    turn = 1- turn\n",
    "    #if done:  print_board(state)\n",
    "\n",
    "a.save_q_table(f\"q_table_{episodes}_({saves}).json\")"
   ]
  },
  {
   "cell_type": "code",
   "execution_count": null,
   "metadata": {},
   "outputs": [
    {
     "data": {
      "application/vnd.jupyter.widget-view+json": {
       "model_id": "c14e542860e74471a82509040baa481c",
       "version_major": 2,
       "version_minor": 0
      },
      "text/plain": [
       "  0%|          | 0/200000 [00:00<?, ?it/s]"
      ]
     },
     "metadata": {},
     "output_type": "display_data"
    },
    {
     "data": {
      "application/vnd.jupyter.widget-view+json": {
       "model_id": "b59c4ae050174361b9907ca1e87985d0",
       "version_major": 2,
       "version_minor": 0
      },
      "text/plain": [
       "  0%|          | 0/200000 [00:00<?, ?it/s]"
      ]
     },
     "metadata": {},
     "output_type": "display_data"
    },
    {
     "data": {
      "application/vnd.jupyter.widget-view+json": {
       "model_id": "1cbcff6e57bd44c99f4c9cfa3aa4aa80",
       "version_major": 2,
       "version_minor": 0
      },
      "text/plain": [
       "  0%|          | 0/200000 [00:00<?, ?it/s]"
      ]
     },
     "metadata": {},
     "output_type": "display_data"
    },
    {
     "data": {
      "application/vnd.jupyter.widget-view+json": {
       "model_id": "10743befcb2b46a1bb41ab1cf2916cb4",
       "version_major": 2,
       "version_minor": 0
      },
      "text/plain": [
       "  0%|          | 0/200000 [00:00<?, ?it/s]"
      ]
     },
     "metadata": {},
     "output_type": "display_data"
    },
    {
     "data": {
      "application/vnd.jupyter.widget-view+json": {
       "model_id": "1809948516a94a57a67cc49eabc0dea7",
       "version_major": 2,
       "version_minor": 0
      },
      "text/plain": [
       "  0%|          | 0/200000 [00:00<?, ?it/s]"
      ]
     },
     "metadata": {},
     "output_type": "display_data"
    }
   ],
   "source": [
    "import matplotlib.pyplot as plt\n",
    "# epsilon = fixed_epsilon\n",
    "for saves in range(5):\n",
    "  a = agent()\n",
    "  hist  = np.zeros(episodes)\n",
    "  for i in tqdm(range(episodes)):\n",
    "    state = State(set(), set())\n",
    "    done = False\n",
    "    available_actions = list(range(9))\n",
    "    #turn = 1\n",
    "    turn = np.random.choice([0,1])\n",
    "    '''print(f\"starts: {'o' if turn == 0 else 'x'}\")'''\n",
    "    state = State(set(), set())\n",
    "    done = False\n",
    "    available_actions = list(range(9))\n",
    "    epsilon = b / (b + i)\n",
    "    while not done:\n",
    "      flag = 0\n",
    "      if turn == 1:\n",
    "        # epsilon greedy player\n",
    "        action = a.get_action(state, available_actions, epsilon)\n",
    "        # fixed eps\n",
    "        # action = a.get_action(state, available_actions)\n",
    "      else:\n",
    "        action, flag = my_player(state, available_actions, flag)\n",
    "      # print(f\"actual s: {state}\")\n",
    "      next_state, done = perform_action(action, available_actions, deepcopy(state), turn)\n",
    "      '''if flag==1:\n",
    "        print_board(next_state)'''\n",
    "      # print(f\"turn: {'o' if turn == 0 else 'x'}\")\n",
    "      # print(f\"action: {action+1}\")\n",
    "      # print(f\"s:{state}, ns:{next_state}\")\n",
    "      # print_board(state)\n",
    "      # print_board(next_state)\n",
    "      # print(f\"next s: {next_state}\")\n",
    "      reward, done = get_reward(next_state, done, available_actions, turn)\n",
    "      '''if flag == 1 and done: print(\"vinto o scelta\")'''\n",
    "      a.update(state, action, reward, next_state, done)\n",
    "      state = next_state\n",
    "      if reward == 1: hist[i] = 1\n",
    "      turn = 1- turn\n",
    "      #if done:  print_board(state)\n",
    "  \n",
    "  a.save_q_table(f\"q_table_{episodes}_({saves}).json\")"
   ]
  },
  {
   "cell_type": "code",
   "execution_count": null,
   "metadata": {},
   "outputs": [],
   "source": [
    "a.save_q_table(f\"q_table_{episodes}_episodes.json\")"
   ]
  },
  {
   "cell_type": "code",
   "execution_count": null,
   "metadata": {},
   "outputs": [],
   "source": [
    "a.load_q_table(\"q_table_200_000_(0).json\")"
   ]
  },
  {
   "cell_type": "code",
   "execution_count": null,
   "metadata": {},
   "outputs": [
    {
     "name": "stdout",
     "output_type": "stream",
     "text": [
      "win rate: 0.539\n",
      "draw rate: 0.148\n",
      "losts : 0.31299999999999994\n"
     ]
    }
   ],
   "source": [
    "\n",
    "wins = 0\n",
    "draws = 0\n",
    "test = 1000\n",
    "for _ in range(test):\n",
    "    state = State(set(), set())\n",
    "    available = list(range(9))\n",
    "    # print(f\"{[i+1 for i in available]}\")\n",
    "    trajectory = list()\n",
    "    turn = np.random.choice([0,1])\n",
    "    while available:\n",
    "        if turn == 1 :\n",
    "            x, available = a.play(state, available)\n",
    "            # print(f\"{[i+1 for i in available]} {x+1}\")\n",
    "            state.x.add(x+1)\n",
    "            trajectory.append(deepcopy(state))\n",
    "            if win(state.x):\n",
    "                wins += 1\n",
    "                #print(\"x wins\")\n",
    "                break\n",
    "            if not available:\n",
    "                draws += 1\n",
    "                #print(\"draw\")\n",
    "                break\n",
    "        else:\n",
    "            # o = choice(available)\n",
    "            o, _ = my_player(state, available, 0)\n",
    "            state.o.add(o+1)\n",
    "            trajectory.append(deepcopy(state))\n",
    "            available.remove(o)\n",
    "            # print(f\"{[i+1 for i in available]} {o+1}\")\n",
    "            if win(state.o):\n",
    "                #print(\"o wins\")\n",
    "                '''for t in trajectory:\n",
    "                    print_board(t)'''\n",
    "                break\n",
    "            if not available:\n",
    "                draws += 1\n",
    "                #print(\"draw\")\n",
    "                break\n",
    "        turn = 1 - turn\n",
    "    '''for t in trajectory:\n",
    "        print_board(t)'''\n",
    "    #print_board(state)\n",
    "print(f\"win rate: {wins/test}\")\n",
    "print(f\"draw rate: {draws/test}\")\n",
    "print(f\"losts : {1 - (wins + draws)/test}\")\n"
   ]
  },
  {
   "cell_type": "code",
   "execution_count": null,
   "metadata": {},
   "outputs": [
    {
     "name": "stdout",
     "output_type": "stream",
     "text": [
      "win rate: 0.612\n",
      "draw rate: 0.164\n",
      "losts : 0.22399999999999998\n"
     ]
    }
   ],
   "source": [
    "wins = 0\n",
    "draws = 0\n",
    "test = 1000\n",
    "for _ in range(test):\n",
    "    state = State(set(), set())\n",
    "    available = list(range(9))\n",
    "    # print(f\"{[i+1 for i in available]}\")\n",
    "    trajectory = list()\n",
    "    turn = np.random.choice([0,1])\n",
    "    while available:\n",
    "        if turn == 1 :\n",
    "            x, available = a.play(state, available)\n",
    "            # print(f\"{[i+1 for i in available]} {x+1}\")\n",
    "            state.x.add(x+1)\n",
    "            trajectory.append(deepcopy(state))\n",
    "            if win(state.x):\n",
    "                wins += 1\n",
    "                # print(\"x wins\")\n",
    "                break\n",
    "            if not available:\n",
    "                draws += 1\n",
    "                # print(\"draw\")\n",
    "                break\n",
    "        else:\n",
    "            o = choice(available)\n",
    "            #o, _ = my_player(state, available, 0)\n",
    "            state.o.add(o+1)\n",
    "            trajectory.append(deepcopy(state))\n",
    "            available.remove(o)\n",
    "            # print(f\"{[i+1 for i in available]} {o+1}\")\n",
    "            if win(state.o):\n",
    "                '''print(\"o wins\")\n",
    "                for t in trajectory:\n",
    "                    print_board(t)'''\n",
    "                break\n",
    "            if not available:\n",
    "                draws += 1\n",
    "                '''print(\"draw\")'''\n",
    "                break\n",
    "        turn = 1 - turn\n",
    "    #print_board(state)\n",
    "print(f\"win rate: {wins/test}\")\n",
    "print(f\"draw rate: {draws/test}\")\n",
    "print(f\"losts : {1 - (wins + draws)/test}\")"
   ]
  },
  {
   "cell_type": "code",
   "execution_count": 315,
   "metadata": {},
   "outputs": [
    {
     "name": "stdout",
     "output_type": "stream",
     "text": [
      "win rate: 0.485\n",
      "draw rate: 0.17\n",
      "losts : 0.345\n"
     ]
    }
   ],
   "source": [
    "for x in range(1):\n",
    "  a.load_q_table(f\"q_table_200000_({x})_r2.json\")\n",
    "  wins = 0\n",
    "  draws = 0\n",
    "  test = 1000\n",
    "  for _ in range(test):\n",
    "      state = State(set(), set())\n",
    "      available = list(range(9))\n",
    "      # print(f\"{[i+1 for i in available]}\")\n",
    "      trajectory = list()\n",
    "      turn = np.random.choice([0,1])\n",
    "      while available:\n",
    "          if turn == 1 :\n",
    "              x, available = a.play(state, available)\n",
    "              # print(f\"{[i+1 for i in available]} {x+1}\")\n",
    "              state.x.add(x+1)\n",
    "              trajectory.append(deepcopy(state))\n",
    "              if win(state.x):\n",
    "                  wins += 1\n",
    "                  # print(\"x wins\")\n",
    "                  break\n",
    "              if not available:\n",
    "                  draws += 1\n",
    "                  # print(\"draw\")\n",
    "                  break\n",
    "          else:\n",
    "              o = choice(available)\n",
    "              #o, _ = my_player(state, available, 0)\n",
    "              state.o.add(o+1)\n",
    "              trajectory.append(deepcopy(state))\n",
    "              available.remove(o)\n",
    "              # print(f\"{[i+1 for i in available]} {o+1}\")\n",
    "              if win(state.o):\n",
    "                  '''print(\"o wins\")\n",
    "                  for t in trajectory:\n",
    "                      print_board(t)'''\n",
    "                  break\n",
    "              if not available:\n",
    "                  draws += 1\n",
    "                  '''print(\"draw\")'''\n",
    "                  break\n",
    "          turn = 1 - turn\n",
    "      #print_board(state)\n",
    "  print(f\"win rate: {wins/test}\")\n",
    "  print(f\"draw rate: {draws/test}\")\n",
    "  print(f\"losts : {1 - (wins + draws)/test}\")"
   ]
  },
  {
   "cell_type": "code",
   "execution_count": null,
   "metadata": {},
   "outputs": [
    {
     "data": {
      "image/png": "[encoded data removed]",
      "text/plain": [
       "<Figure size 1400x400 with 1 Axes>"
      ]
     },
     "metadata": {},
     "output_type": "display_data"
    }
   ],
   "source": [
    "plt.figure(figsize=(14, 4))\n",
    "k = 10\n",
    "plt.bar(range(0, len(hist), k), hist[::k], color='skyblue')\n",
    "\n",
    "plt.xlabel('Episodes')\n",
    "plt.ylabel('Win')\n",
    "\n",
    "# Mostra il grafico\n",
    "plt.show()"
   ]
  }
 ],
 "metadata": {
  "kernelspec": {
   "display_name": "ci-fLJ3OwGs-py3.12",
   "language": "python",
   "name": "python3"
  },
  "language_info": {
   "codemirror_mode": {
    "name": "ipython",
    "version": 3
   },
   "file_extension": ".py",
   "mimetype": "text/x-python",
   "name": "python",
   "nbconvert_exporter": "python",
   "pygments_lexer": "ipython3",
   "version": "3.12.0"
  }
 },
 "nbformat": 4,
 "nbformat_minor": 2
}

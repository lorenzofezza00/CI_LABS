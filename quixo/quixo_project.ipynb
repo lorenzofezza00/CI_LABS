{
  "cells": [
    {
      "cell_type": "markdown",
      "metadata": {
        "id": "view-in-github",
        "colab_type": "text"
      },
      "source": [
        "<a href=\"https://colab.research.google.com/github/lorenzofezza00/CI_LABS/blob/main/quixo/quixo_project.ipynb\" target=\"_parent\"><img src=\"https://colab.research.google.com/assets/colab-badge.svg\" alt=\"Open In Colab\"/></a>"
      ]
    },
    {
      "cell_type": "code",
      "execution_count": null,
      "metadata": {
        "id": "mIcRDnMuUzd-"
      },
      "outputs": [],
      "source": [
        "!git clone \"https://github.com/lorenzofezza00/CI_LABS.git\""
      ]
    },
    {
      "cell_type": "code",
      "execution_count": null,
      "metadata": {
        "id": "21N3MKd2UzeB",
        "outputId": "f24152b5-7843-4bcb-c401-763b062c3629"
      },
      "outputs": [
        {
          "name": "stderr",
          "output_type": "stream",
          "text": [
            "Python non trovato; Esegui senza argomenti per installare da Microsoft Store o disabilitare il collegamento da impostazioni > Gestisci app Alias di esecuzione.\n"
          ]
        }
      ],
      "source": [
        "!python3 \"/content/CI_LABS/quixo/main.py\" --p1 MinMaxPlayer --p2 RandomPlayer --my_player 0 --game MyGame"
      ]
    },
    {
      "cell_type": "code",
      "execution_count": null,
      "metadata": {
        "id": "oFQw2j53UzeD"
      },
      "outputs": [],
      "source": [
        "!python3 \"/content/CI_LABS/quixo/main.py\" --p1 RandomPlayer --p2 MinMaxPlayer --my_player 1 --game Game"
      ]
    }
  ],
  "metadata": {
    "kernelspec": {
      "display_name": "ci-dFcQyzLV-py3.12",
      "language": "python",
      "name": "python3"
    },
    "language_info": {
      "codemirror_mode": {
        "name": "ipython",
        "version": 3
      },
      "file_extension": ".py",
      "mimetype": "text/x-python",
      "name": "python",
      "nbconvert_exporter": "python",
      "pygments_lexer": "ipython3",
      "version": "3.12.0"
    },
    "colab": {
      "provenance": [],
      "include_colab_link": true
    }
  },
  "nbformat": 4,
  "nbformat_minor": 0
}
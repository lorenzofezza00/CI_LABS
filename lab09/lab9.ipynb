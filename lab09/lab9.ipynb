{
 "cells": [
  {
   "cell_type": "markdown",
   "metadata": {},
   "source": [
    "Copyright **`(c)`** 2023 Giovanni Squillero `<giovanni.squillero@polito.it>`  \n",
    "[`https://github.com/squillero/computational-intelligence`](https://github.com/squillero/computational-intelligence)  \n",
    "Free for personal or classroom use; see [`LICENSE.md`](https://github.com/squillero/computational-intelligence/blob/master/LICENSE.md) for details.  "
   ]
  },
  {
   "cell_type": "markdown",
   "metadata": {},
   "source": [
    "# LAB9\n",
    "\n",
    "Write a local-search algorithm (eg. an EA) able to solve the *Problem* instances 1, 2, 5, and 10 on a 1000-loci genomes, using a minimum number of fitness calls. That's all.\n",
    "\n",
    "### Deadlines:\n",
    "\n",
    "* Submission: Sunday, December 3 ([CET](https://www.timeanddate.com/time/zones/cet))\n",
    "* Reviews: Sunday, December 10 ([CET](https://www.timeanddate.com/time/zones/cet))\n",
    "\n",
    "Notes:\n",
    "\n",
    "* Reviews will be assigned  on Monday, December 4\n",
    "* You need to commit in order to be selected as a reviewer (ie. better to commit an empty work than not to commit)"
   ]
  },
  {
   "cell_type": "code",
   "execution_count": 36,
   "metadata": {},
   "outputs": [],
   "source": [
    "import random\n",
    "from random import choices\n",
    "from copy import copy\n",
    "import numpy as np\n",
    "import lab9_lib\n",
    "from tqdm.notebook import tqdm"
   ]
  },
  {
   "cell_type": "markdown",
   "metadata": {},
   "source": [
    "# Local Search:\n",
    "Local search is a heuristic method for solving computationally hard optimization problems. Local search can be used on problems that can be formulated as finding a solution maximizing a criterion among a number of candidate solutions. Local search algorithms move from solution to solution in the space of candidate solutions (the search space) by applying local changes, until a solution deemed optimal is found or a time bound is elapsed."
   ]
  },
  {
   "cell_type": "code",
   "execution_count": 37,
   "metadata": {},
   "outputs": [],
   "source": [
    "l = 1000\n",
    "problems = [1, 2, 5, 10]\n",
    "half_pop_size = 5\n",
    "µ = 2 * half_pop_size"
   ]
  },
  {
   "cell_type": "markdown",
   "metadata": {},
   "source": [
    "## Implementation:\n",
    "Idea: with the fitness function I can see which pieces of string are important and which are not, and therefore I can preserve the important pieces and throw away the useless ones.\n",
    "\n",
    "IMPORTANT: PROMOTE DIVERSITY (I can do it in the selection, crossover and mutation)\n",
    "* distance metric: \n",
    "  - how far the individual is from a subset of the population to the whole population\n",
    "  - from a single individual\n",
    "* property of the population\n",
    "\n",
    "3 levels of diversity:\n",
    "* phenotype\n",
    "* genotype\n",
    "* fitness"
   ]
  },
  {
   "cell_type": "code",
   "execution_count": 38,
   "metadata": {},
   "outputs": [],
   "source": [
    "# invece che fare find distribution potrei fare direttamente una funzione che mi prende inf e sup di ogni serie consecutiva di 1\n",
    "# oppure fare direttamente l'and bit a bit e contare il numero di 1\n",
    "# L'and conta solo quali 1 sono in comune, ma non considera la similarità con gli 0\n",
    "# quindi per vedere se due vettori sono simili devo fare uno xor, perché se i due elementi sono diversi, allora il risultato è 1, altrimenti 0\n",
    "# poi conto gli 1 che indicano che due elem sono diversi\n",
    "\n",
    "# Evaluate diversity (how many different elements we have in the genome)\n",
    "def compute_diversity(e1, e2):\n",
    "    xor_res = e1 ^ e2\n",
    "    return np.sum(xor_res) / l\n"
   ]
  },
  {
   "cell_type": "code",
   "execution_count": 39,
   "metadata": {},
   "outputs": [],
   "source": [
    "def init_population():\n",
    "    return np.array([(np.array(choices([0, 1], k=l)), 0.0) for _ in range(µ)], dtype=object)\n",
    "\n",
    "def evaluate_population(population, fitness):\n",
    "    return np.array([(individual[0], fitness(individual[0])) for individual in population], dtype=object)\n",
    "\n",
    "def select_with_replacement(population):\n",
    "    # select a random individual from the population\n",
    "    # find the individual with \n",
    "    # the highest fitness, \n",
    "    # the vector with the most distinct distribution of ones compared to the others\n",
    "    div_matr = np.zeros((µ, µ))\n",
    "    for i1, p1 in enumerate(population):\n",
    "        for i2, p2 in enumerate(population):\n",
    "            if i1 != i2:\n",
    "                #the matrix is not symmetric since is added only for p2[1]\n",
    "                div_matr[i1][i2] = (compute_diversity(p1[0], p2[0]) + p2[1]) / 2\n",
    "\n",
    "    # find index of the individuals with highest fitness and highest diversity\n",
    "    i1, i2 = np.unravel_index(np.argmax(div_matr), div_matr.shape)\n",
    "\n",
    "    return population[i1], population[i2]\n",
    "\n",
    "def crossover_cyclic_shift(parent1, parent2):\n",
    "    # a two (rand) point crossover for now\n",
    "    # swapping of two substrings of the same len but in random position\n",
    "    # I want try to implement a circular translated swapping\n",
    "    v = parent1[0]\n",
    "    w = parent2[0]\n",
    "    c = random.randint(0, l)\n",
    "    d = random.randint(0, l)\n",
    "    s = random.randint(0, l)\n",
    "    if c < d:\n",
    "        for i in range(c, d):\n",
    "            v[i%l], w[(i+s)%l] = w[(i+s)%l], v[i%l]\n",
    "    else:\n",
    "        for i in range(c, d+l):\n",
    "            v[i%l], w[(i+s)%l] = w[(i+s)%l], v[i%l]\n",
    "    return (v, 0.0), (w, 0.0)\n",
    "\n",
    "def std_crossover(parent1, parent2):\n",
    "    # a two (rand) point crossover for now\n",
    "    # swapping of two substrings of the same len but in random position\n",
    "    # I want try to implement a circular translated swapping\n",
    "    v = parent1[0]\n",
    "    w = parent2[0]\n",
    "    c = random.randint(0, l)\n",
    "    d = random.randint(0, l)\n",
    "    if c > d:\n",
    "        c, d = d, c\n",
    "    if c!=d:\n",
    "        v[c:d], w[c:d] = w[c:d], v[c:d]\n",
    "    return (v, 0.0), (w, 0.0)\n",
    "\n",
    "def mutate(individual, mutation_prob=0.5):\n",
    "    # bit flip mutation for now\n",
    "    v = individual[0]\n",
    "    for i in range(l):\n",
    "        if mutation_prob >= random.random():\n",
    "            v[i] = 1 - v[i]\n",
    "    return individual"
   ]
  },
  {
   "cell_type": "code",
   "execution_count": 40,
   "metadata": {},
   "outputs": [],
   "source": [
    "def genetic_algorithm(fitness, crossover):\n",
    "    Best = None\n",
    "    # 1. Initialize population\n",
    "    population = init_population()\n",
    "    population = evaluate_population(population, fitness)\n",
    "    # 2. Repeat\n",
    "    found = -1\n",
    "    x = -1\n",
    "    for i in tqdm(range(100)):\n",
    "        for p in population:\n",
    "            if Best is None or p[1] > Best[1]:\n",
    "                Best = p\n",
    "                found = fitness._calls\n",
    "                x = i\n",
    "        \n",
    "        if Best is not None and Best[1]==1:\n",
    "            break\n",
    "        \n",
    "        q = list()\n",
    "        for _ in range(µ//2):\n",
    "            # 2.1 Select parents\n",
    "            parent_a, parent_b = select_with_replacement(population)\n",
    "            # 2.2 Crossover\n",
    "            child_a, child_b = crossover(copy(parent_a), copy(parent_b))\n",
    "            \n",
    "            # 2.3 Mutate\n",
    "            mutated_a = mutate(child_a)\n",
    "            mutated_b = mutate(child_b)\n",
    "            q.append(mutated_a)\n",
    "            q.append(mutated_b)\n",
    "            \n",
    "        population = evaluate_population(q, fitness)\n",
    "    \n",
    "    # 4. Return best individual\n",
    "    return Best, found, x"
   ]
  },
  {
   "cell_type": "code",
   "execution_count": 41,
   "metadata": {},
   "outputs": [
    {
     "data": {
      "application/vnd.jupyter.widget-view+json": {
       "model_id": "185342df1e584e00bda85e5a82f14ad8",
       "version_major": 2,
       "version_minor": 0
      },
      "text/plain": [
       "  0%|          | 0/100 [00:00<?, ?it/s]"
      ]
     },
     "metadata": {},
     "output_type": "display_data"
    },
    {
     "data": {
      "application/vnd.jupyter.widget-view+json": {
       "model_id": "67328c279fff49cb9992a3d8ae643cc0",
       "version_major": 2,
       "version_minor": 0
      },
      "text/plain": [
       "  0%|          | 0/100 [00:00<?, ?it/s]"
      ]
     },
     "metadata": {},
     "output_type": "display_data"
    },
    {
     "data": {
      "application/vnd.jupyter.widget-view+json": {
       "model_id": "303f309a5679406abc7c5c4df46a8fb8",
       "version_major": 2,
       "version_minor": 0
      },
      "text/plain": [
       "  0%|          | 0/100 [00:00<?, ?it/s]"
      ]
     },
     "metadata": {},
     "output_type": "display_data"
    },
    {
     "data": {
      "application/vnd.jupyter.widget-view+json": {
       "model_id": "ac17fc501f12485eafd8d842d8152a3c",
       "version_major": 2,
       "version_minor": 0
      },
      "text/plain": [
       "  0%|          | 0/100 [00:00<?, ?it/s]"
      ]
     },
     "metadata": {},
     "output_type": "display_data"
    },
    {
     "name": "stdout",
     "output_type": "stream",
     "text": [
      "Problem\t1:\t54.20%,\tCalls:\t1010,\tBest found at \t30 fitness calls,\tat iteration 2\n",
      "Problem\t2:\t52.20%,\tCalls:\t1010,\tBest found at \t30 fitness calls,\tat iteration 2\n",
      "Problem\t5:\t30.70%,\tCalls:\t1010,\tBest found at \t30 fitness calls,\tat iteration 2\n",
      "Problem\t10:\t21.02%,\tCalls:\t1010,\tBest found at \t30 fitness calls,\tat iteration 2\n",
      "-------------------------------------\n"
     ]
    },
    {
     "data": {
      "application/vnd.jupyter.widget-view+json": {
       "model_id": "e76d9342f3504850b33689e33595f114",
       "version_major": 2,
       "version_minor": 0
      },
      "text/plain": [
       "  0%|          | 0/100 [00:00<?, ?it/s]"
      ]
     },
     "metadata": {},
     "output_type": "display_data"
    },
    {
     "data": {
      "application/vnd.jupyter.widget-view+json": {
       "model_id": "7192ffe4d93d4f5d8912895a6a00ed15",
       "version_major": 2,
       "version_minor": 0
      },
      "text/plain": [
       "  0%|          | 0/100 [00:00<?, ?it/s]"
      ]
     },
     "metadata": {},
     "output_type": "display_data"
    },
    {
     "data": {
      "application/vnd.jupyter.widget-view+json": {
       "model_id": "71d0f173744b4c84b14d6b4a54a498f4",
       "version_major": 2,
       "version_minor": 0
      },
      "text/plain": [
       "  0%|          | 0/100 [00:00<?, ?it/s]"
      ]
     },
     "metadata": {},
     "output_type": "display_data"
    },
    {
     "data": {
      "application/vnd.jupyter.widget-view+json": {
       "model_id": "adb0637e9019460dafe2cd4fdcc537d6",
       "version_major": 2,
       "version_minor": 0
      },
      "text/plain": [
       "  0%|          | 0/100 [00:00<?, ?it/s]"
      ]
     },
     "metadata": {},
     "output_type": "display_data"
    },
    {
     "name": "stdout",
     "output_type": "stream",
     "text": [
      "Problem\t1:\t54.70%,\tCalls:\t1010,\tBest found at \t110 fitness calls,\tat iteration 10\n",
      "Problem\t2:\t51.00%,\tCalls:\t1010,\tBest found at \t110 fitness calls,\tat iteration 10\n",
      "Problem\t5:\t31.03%,\tCalls:\t1010,\tBest found at \t110 fitness calls,\tat iteration 10\n",
      "Problem\t10:\t16.50%,\tCalls:\t1010,\tBest found at \t110 fitness calls,\tat iteration 10\n",
      "-------------------------------------\n"
     ]
    },
    {
     "data": {
      "application/vnd.jupyter.widget-view+json": {
       "model_id": "ca055723f97840e59986077d708d041e",
       "version_major": 2,
       "version_minor": 0
      },
      "text/plain": [
       "  0%|          | 0/100 [00:00<?, ?it/s]"
      ]
     },
     "metadata": {},
     "output_type": "display_data"
    },
    {
     "data": {
      "application/vnd.jupyter.widget-view+json": {
       "model_id": "0cdf5364e27c4f159ce7469632480183",
       "version_major": 2,
       "version_minor": 0
      },
      "text/plain": [
       "  0%|          | 0/100 [00:00<?, ?it/s]"
      ]
     },
     "metadata": {},
     "output_type": "display_data"
    },
    {
     "data": {
      "application/vnd.jupyter.widget-view+json": {
       "model_id": "f0bbd704b7794c40872b8f95040fa84f",
       "version_major": 2,
       "version_minor": 0
      },
      "text/plain": [
       "  0%|          | 0/100 [00:00<?, ?it/s]"
      ]
     },
     "metadata": {},
     "output_type": "display_data"
    },
    {
     "data": {
      "application/vnd.jupyter.widget-view+json": {
       "model_id": "55a9d3b329da41be8f2d0676e1ae7c8a",
       "version_major": 2,
       "version_minor": 0
      },
      "text/plain": [
       "  0%|          | 0/100 [00:00<?, ?it/s]"
      ]
     },
     "metadata": {},
     "output_type": "display_data"
    },
    {
     "name": "stdout",
     "output_type": "stream",
     "text": [
      "Problem\t1:\t54.60%,\tCalls:\t1010,\tBest found at \t650 fitness calls,\tat iteration 64\n",
      "Problem\t2:\t52.20%,\tCalls:\t1010,\tBest found at \t650 fitness calls,\tat iteration 64\n",
      "Problem\t5:\t30.12%,\tCalls:\t1010,\tBest found at \t650 fitness calls,\tat iteration 64\n",
      "Problem\t10:\t17.13%,\tCalls:\t1010,\tBest found at \t650 fitness calls,\tat iteration 64\n",
      "-------------------------------------\n"
     ]
    }
   ],
   "source": [
    "for _ in range(3):\n",
    "    my_list = list()\n",
    "    found = -1\n",
    "    fitness = None\n",
    "    for prob in problems:\n",
    "        fitness = lab9_lib.make_problem(prob)\n",
    "        b, found, i = genetic_algorithm(fitness, crossover_cyclic_shift)\n",
    "        my_list.append((prob, b[1], fitness.calls))\n",
    "    for m in my_list:\n",
    "        print(f\"Problem\\t{m[0]}:\\t{m[1]:.2%},\\tCalls:\\t{m[2]},\\tBest found at \\t{found} fitness calls,\\tat iteration {i}\")\n",
    "    print(\"-------------------------------------\")"
   ]
  },
  {
   "cell_type": "code",
   "execution_count": 42,
   "metadata": {},
   "outputs": [
    {
     "data": {
      "application/vnd.jupyter.widget-view+json": {
       "model_id": "9b5720a2cac04e2f8aa025d0c800466f",
       "version_major": 2,
       "version_minor": 0
      },
      "text/plain": [
       "  0%|          | 0/100 [00:00<?, ?it/s]"
      ]
     },
     "metadata": {},
     "output_type": "display_data"
    },
    {
     "data": {
      "application/vnd.jupyter.widget-view+json": {
       "model_id": "7745a0e5757e4eceaea4095bda2f7bf1",
       "version_major": 2,
       "version_minor": 0
      },
      "text/plain": [
       "  0%|          | 0/100 [00:00<?, ?it/s]"
      ]
     },
     "metadata": {},
     "output_type": "display_data"
    },
    {
     "data": {
      "application/vnd.jupyter.widget-view+json": {
       "model_id": "6e2c1f74bcc94407a354710ec3175b99",
       "version_major": 2,
       "version_minor": 0
      },
      "text/plain": [
       "  0%|          | 0/100 [00:00<?, ?it/s]"
      ]
     },
     "metadata": {},
     "output_type": "display_data"
    },
    {
     "data": {
      "application/vnd.jupyter.widget-view+json": {
       "model_id": "d573b49f3b984d199ef0d7a7b15d365d",
       "version_major": 2,
       "version_minor": 0
      },
      "text/plain": [
       "  0%|          | 0/100 [00:00<?, ?it/s]"
      ]
     },
     "metadata": {},
     "output_type": "display_data"
    },
    {
     "name": "stdout",
     "output_type": "stream",
     "text": [
      "Problem\t1:\t54.20%,\tCalls:\t1010,\tBest found at \t850 fitness calls,\tat iteration 84\n",
      "Problem\t2:\t52.00%,\tCalls:\t1010,\tBest found at \t850 fitness calls,\tat iteration 84\n",
      "Problem\t5:\t31.84%,\tCalls:\t1010,\tBest found at \t850 fitness calls,\tat iteration 84\n",
      "Problem\t10:\t16.21%,\tCalls:\t1010,\tBest found at \t850 fitness calls,\tat iteration 84\n",
      "-------------------------------------\n"
     ]
    },
    {
     "data": {
      "application/vnd.jupyter.widget-view+json": {
       "model_id": "b3725119815e4d3e996fb960a362e5c5",
       "version_major": 2,
       "version_minor": 0
      },
      "text/plain": [
       "  0%|          | 0/100 [00:00<?, ?it/s]"
      ]
     },
     "metadata": {},
     "output_type": "display_data"
    },
    {
     "data": {
      "application/vnd.jupyter.widget-view+json": {
       "model_id": "c3aaaae113ea4e5997cc300862f5f2d2",
       "version_major": 2,
       "version_minor": 0
      },
      "text/plain": [
       "  0%|          | 0/100 [00:00<?, ?it/s]"
      ]
     },
     "metadata": {},
     "output_type": "display_data"
    },
    {
     "data": {
      "application/vnd.jupyter.widget-view+json": {
       "model_id": "56e43db6114e43669daddf3fb3cdb1be",
       "version_major": 2,
       "version_minor": 0
      },
      "text/plain": [
       "  0%|          | 0/100 [00:00<?, ?it/s]"
      ]
     },
     "metadata": {},
     "output_type": "display_data"
    },
    {
     "data": {
      "application/vnd.jupyter.widget-view+json": {
       "model_id": "56dc3e3bada84d56b718d982896fb792",
       "version_major": 2,
       "version_minor": 0
      },
      "text/plain": [
       "  0%|          | 0/100 [00:00<?, ?it/s]"
      ]
     },
     "metadata": {},
     "output_type": "display_data"
    },
    {
     "name": "stdout",
     "output_type": "stream",
     "text": [
      "Problem\t1:\t55.30%,\tCalls:\t1010,\tBest found at \t450 fitness calls,\tat iteration 44\n",
      "Problem\t2:\t52.40%,\tCalls:\t1010,\tBest found at \t450 fitness calls,\tat iteration 44\n",
      "Problem\t5:\t28.64%,\tCalls:\t1010,\tBest found at \t450 fitness calls,\tat iteration 44\n",
      "Problem\t10:\t15.91%,\tCalls:\t1010,\tBest found at \t450 fitness calls,\tat iteration 44\n",
      "-------------------------------------\n"
     ]
    },
    {
     "data": {
      "application/vnd.jupyter.widget-view+json": {
       "model_id": "4424ce62622b4516b3fcbe43be889dd9",
       "version_major": 2,
       "version_minor": 0
      },
      "text/plain": [
       "  0%|          | 0/100 [00:00<?, ?it/s]"
      ]
     },
     "metadata": {},
     "output_type": "display_data"
    },
    {
     "data": {
      "application/vnd.jupyter.widget-view+json": {
       "model_id": "c93f823b7bfa474dbd7023dce0839c89",
       "version_major": 2,
       "version_minor": 0
      },
      "text/plain": [
       "  0%|          | 0/100 [00:00<?, ?it/s]"
      ]
     },
     "metadata": {},
     "output_type": "display_data"
    },
    {
     "data": {
      "application/vnd.jupyter.widget-view+json": {
       "model_id": "0035ce8a92c5433b86cf3959d0cd8525",
       "version_major": 2,
       "version_minor": 0
      },
      "text/plain": [
       "  0%|          | 0/100 [00:00<?, ?it/s]"
      ]
     },
     "metadata": {},
     "output_type": "display_data"
    },
    {
     "data": {
      "application/vnd.jupyter.widget-view+json": {
       "model_id": "f7dacc751c28469da84e0382967c92d0",
       "version_major": 2,
       "version_minor": 0
      },
      "text/plain": [
       "  0%|          | 0/100 [00:00<?, ?it/s]"
      ]
     },
     "metadata": {},
     "output_type": "display_data"
    },
    {
     "name": "stdout",
     "output_type": "stream",
     "text": [
      "Problem\t1:\t54.00%,\tCalls:\t1010,\tBest found at \t590 fitness calls,\tat iteration 58\n",
      "Problem\t2:\t51.60%,\tCalls:\t1010,\tBest found at \t590 fitness calls,\tat iteration 58\n",
      "Problem\t5:\t21.02%,\tCalls:\t1010,\tBest found at \t590 fitness calls,\tat iteration 58\n",
      "Problem\t10:\t15.91%,\tCalls:\t1010,\tBest found at \t590 fitness calls,\tat iteration 58\n",
      "-------------------------------------\n"
     ]
    }
   ],
   "source": [
    "for _ in range(3):\n",
    "    my_list = list()\n",
    "    found = -1\n",
    "    fitness = None\n",
    "    for prob in problems:\n",
    "        fitness = lab9_lib.make_problem(prob)\n",
    "        b, found, i = genetic_algorithm(fitness, std_crossover)\n",
    "        my_list.append((prob, b[1], fitness.calls))\n",
    "    for m in my_list:\n",
    "        print(f\"Problem\\t{m[0]}:\\t{m[1]:.2%},\\tCalls:\\t{m[2]},\\tBest found at \\t{found} fitness calls,\\tat iteration {i}\")\n",
    "    print(\"-------------------------------------\")"
   ]
  },
  {
   "cell_type": "code",
   "execution_count": 43,
   "metadata": {},
   "outputs": [
    {
     "name": "stdout",
     "output_type": "stream",
     "text": [
      "Problem 1:\n",
      "01000... | 52.80%\n",
      "11111... | 50.40%\n",
      "01101... | 50.40%\n",
      "10001... | 49.10%\n",
      "10110... | 51.40%\n",
      "01010... | 50.40%\n",
      "00001... | 49.10%\n",
      "10101... | 50.20%\n",
      "10110... | 50.40%\n",
      "11010... | 51.70%\n",
      "10\n",
      "-------------------------------------\n",
      "Problem 2:\n",
      "00001... | 23.82%\n",
      "10001... | 22.99%\n",
      "00110... | 23.59%\n",
      "01000... | 24.10%\n",
      "00101... | 22.33%\n",
      "01111... | 24.24%\n",
      "11100... | 24.45%\n",
      "11001... | 22.30%\n",
      "10100... | 22.66%\n",
      "11011... | 22.61%\n",
      "10\n",
      "-------------------------------------\n",
      "Problem 5:\n",
      "11001... | 10.56%\n",
      "00111... | 9.74%\n",
      "11001... | 9.38%\n",
      "00011... | 9.55%\n",
      "01000... | 19.70%\n",
      "11111... | 9.76%\n",
      "11010... | 9.56%\n",
      "00111... | 10.73%\n",
      "10011... | 9.66%\n",
      "01001... | 9.62%\n",
      "10\n",
      "-------------------------------------\n",
      "Problem 10:\n",
      "00110... | 5.08%\n",
      "10100... | 5.19%\n",
      "11110... | 10.22%\n",
      "10111... | 10.40%\n",
      "00111... | 5.54%\n",
      "00111... | 5.10%\n",
      "00011... | 4.82%\n",
      "00100... | 5.12%\n",
      "01110... | 5.49%\n",
      "10100... | 5.48%\n",
      "10\n",
      "-------------------------------------\n"
     ]
    }
   ],
   "source": [
    "for i, prob in enumerate(problems):\n",
    "    print(f\"Problem {prob}:\")\n",
    "\n",
    "    fitness = lab9_lib.make_problem(prob)\n",
    "    for n in range(10):\n",
    "        ind = choices([0, 1], k=1000)\n",
    "        print(f\"{''.join(str(g) for g in ind[0:5])}... | {fitness(ind):.2%}\")\n",
    "\n",
    "    print(fitness.calls)\n",
    "\n",
    "    print(\"-------------------------------------\")\n"
   ]
  },
  {
   "cell_type": "code",
   "execution_count": 44,
   "metadata": {},
   "outputs": [
    {
     "name": "stdout",
     "output_type": "stream",
     "text": [
      "10001001111111110110111000111000011010011100100111: 58.00%\n",
      "10100101011111000100011111010011011000011010111110: 56.00%\n",
      "00000101111101110011011011101101010000011111011010: 56.00%\n",
      "00100000101110110011100000111001100110000001000100: 38.00%\n",
      "10110010011100101001100011110101111110110011100110: 58.00%\n",
      "11010001111110011110010001010111110010011110101110: 60.00%\n",
      "00001111101101001101111101100110111011010001011000: 56.00%\n",
      "10010100001111011011111011111101011011111000010101: 62.00%\n",
      "10101100000011110011100000000101111111001101001011: 50.00%\n",
      "11001001000101001010100110001100001100110010110101: 44.00%\n",
      "10\n"
     ]
    }
   ],
   "source": [
    "fitness = lab9_lib.make_problem(1)\n",
    "for n in range(10):\n",
    "    ind = choices([0, 1], k=50)\n",
    "    print(f\"{''.join(str(g) for g in ind)}: {fitness(ind):.2%}\")\n",
    "\n",
    "print(fitness.calls)"
   ]
  }
 ],
 "metadata": {
  "kernelspec": {
   "display_name": "ci-fLJ3OwGs-py3.12",
   "language": "python",
   "name": "python3"
  },
  "language_info": {
   "codemirror_mode": {
    "name": "ipython",
    "version": 3
   },
   "file_extension": ".py",
   "mimetype": "text/x-python",
   "name": "python",
   "nbconvert_exporter": "python",
   "pygments_lexer": "ipython3",
   "version": "3.12.0"
  }
 },
 "nbformat": 4,
 "nbformat_minor": 2
}

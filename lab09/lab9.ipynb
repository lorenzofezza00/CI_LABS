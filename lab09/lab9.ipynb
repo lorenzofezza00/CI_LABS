{
 "cells": [
  {
   "cell_type": "markdown",
   "metadata": {},
   "source": [
    "Copyright **`(c)`** 2023 Giovanni Squillero `<giovanni.squillero@polito.it>`  \n",
    "[`https://github.com/squillero/computational-intelligence`](https://github.com/squillero/computational-intelligence)  \n",
    "Free for personal or classroom use; see [`LICENSE.md`](https://github.com/squillero/computational-intelligence/blob/master/LICENSE.md) for details.  "
   ]
  },
  {
   "cell_type": "markdown",
   "metadata": {},
   "source": [
    "# LAB9\n",
    "\n",
    "Write a local-search algorithm (eg. an EA) able to solve the *Problem* instances 1, 2, 5, and 10 on a 1000-loci genomes, using a minimum number of fitness calls. That's all.\n",
    "\n",
    "### Deadlines:\n",
    "\n",
    "* Submission: Sunday, December 3 ([CET](https://www.timeanddate.com/time/zones/cet))\n",
    "* Reviews: Sunday, December 10 ([CET](https://www.timeanddate.com/time/zones/cet))\n",
    "\n",
    "Notes:\n",
    "\n",
    "* Reviews will be assigned  on Monday, December 4\n",
    "* You need to commit in order to be selected as a reviewer (ie. better to commit an empty work than not to commit)"
   ]
  },
  {
   "cell_type": "code",
   "execution_count": 140,
   "metadata": {},
   "outputs": [],
   "source": [
    "import random\n",
    "from random import choices\n",
    "from copy import copy\n",
    "import numpy as np\n",
    "import lab9_lib\n",
    "from tqdm.notebook import tqdm"
   ]
  },
  {
   "cell_type": "markdown",
   "metadata": {},
   "source": [
    "# Local Search:\n",
    "Local search is a heuristic method for solving computationally hard optimization problems. Local search can be used on problems that can be formulated as finding a solution maximizing a criterion among a number of candidate solutions. Local search algorithms move from solution to solution in the space of candidate solutions (the search space) by applying local changes, until a solution deemed optimal is found or a time bound is elapsed."
   ]
  },
  {
   "cell_type": "code",
   "execution_count": 141,
   "metadata": {},
   "outputs": [],
   "source": [
    "l = 1000\n",
    "problems = [1, 2, 5, 10]\n",
    "half_pop_size = 5\n",
    "µ = 2 * half_pop_size"
   ]
  },
  {
   "cell_type": "markdown",
   "metadata": {},
   "source": [
    "## Implementation:\n",
    "Idea: with the fitness function I can see which pieces of string are important and which are not, and therefore I can preserve the important pieces and throw away the useless ones.\n",
    "\n",
    "IMPORTANT: PROMOTE DIVERSITY (I can do it in the selection, crossover and mutation)\n",
    "* distance metric: \n",
    "  - how far the individual is from a subset of the population to the whole population\n",
    "  - from a single individual\n",
    "* property of the population\n",
    "\n",
    "3 levels of diversity:\n",
    "* phenotype\n",
    "* genotype\n",
    "* fitness"
   ]
  },
  {
   "cell_type": "code",
   "execution_count": 142,
   "metadata": {},
   "outputs": [],
   "source": [
    "# invece che fare find distribution potrei fare direttamente una funzione che mi prende inf e sup di ogni serie consecutiva di 1\n",
    "# oppure fare direttamente l'and bit a bit e contare il numero di 1\n",
    "# L'and conta solo quali 1 sono in comune, ma non considera la similarità con gli 0\n",
    "# quindi per vedere se due vettori sono simili devo fare uno xor, perché se i due elementi sono diversi, allora il risultato è 1, altrimenti 0\n",
    "# poi conto gli 1 che indicano che due elem sono diversi\n",
    "\n",
    "# Evaluate diversity (how many different elements we have in the genome)\n",
    "def evaluate_diversity(e1, e2):\n",
    "    xor_res = e1 ^ e2\n",
    "    return np.sum(xor_res) / l\n"
   ]
  },
  {
   "cell_type": "code",
   "execution_count": 143,
   "metadata": {},
   "outputs": [],
   "source": [
    "def init_population():\n",
    "    return np.array([(np.array(choices([0, 1], k=l)), 0.0) for _ in range(µ)], dtype=object)\n",
    "\n",
    "def evaluate_population(population, fitness):\n",
    "    return np.array([(individual[0], fitness(individual[0])) for individual in population], dtype=object)\n",
    "\n",
    "def select_with_replacement(population):\n",
    "    # select a random individual from the population\n",
    "    # find the individual with \n",
    "    # the highest fitness, \n",
    "    # the vector with the most distinct distribution of ones compared to the others\n",
    "    div_matr = np.zeros((µ, µ))\n",
    "    for i1, p1 in enumerate(population):\n",
    "        for i2, p2 in enumerate(population):\n",
    "            if i1 != i2:\n",
    "                #the matrix is not symmetric since is added only for p2[1]\n",
    "                div_matr[i1][i2] = (evaluate_diversity(p1[0], p2[0]) + p2[1]) / 2\n",
    "\n",
    "    # find index of the individuals with highest fitness and highest diversity\n",
    "    i1, i2 = np.unravel_index(np.argmax(div_matr), div_matr.shape)\n",
    "\n",
    "    return population[i1], population[i2]\n",
    "\n",
    "def crossover_cyclic_shift(parent1, parent2):\n",
    "    # a two (rand) point crossover for now\n",
    "    # swapping of two substrings of the same len but in random position\n",
    "    # I want try to implement a circular translated swapping\n",
    "    v = parent1[0]\n",
    "    w = parent2[0]\n",
    "    c = random.randint(0, l)\n",
    "    d = random.randint(0, l)\n",
    "    s = random.randint(0, l)\n",
    "    if c < d:\n",
    "        for i in range(c, d):\n",
    "            v[i%l], w[(i+s)%l] = w[(i+s)%l], v[i%l]\n",
    "    else:\n",
    "        for i in range(c, d+l):\n",
    "            v[i%l], w[(i+s)%l] = w[(i+s)%l], v[i%l]\n",
    "    return (v, 0.0), (w, 0.0)\n",
    "\n",
    "def std_crossover(parent1, parent2):\n",
    "    # a two (rand) point crossover for now\n",
    "    # swapping of two substrings of the same len but in random position\n",
    "    # I want try to implement a circular translated swapping\n",
    "    v = parent1[0]\n",
    "    w = parent2[0]\n",
    "    c = random.randint(0, l)\n",
    "    d = random.randint(0, l)\n",
    "    if c > d:\n",
    "        c, d = d, c\n",
    "    if c!=d:\n",
    "        v[c:d], w[c:d] = w[c:d], v[c:d]\n",
    "    return (v, 0.0), (w, 0.0)\n",
    "\n",
    "def mutate(individual):\n",
    "    # bit flip mutation for now\n",
    "    p = 0.5\n",
    "    v = individual[0]\n",
    "    for i in range(l):\n",
    "        if p >= random.random():\n",
    "            v[i] = 1 - v[i]\n",
    "    return individual"
   ]
  },
  {
   "cell_type": "code",
   "execution_count": 144,
   "metadata": {},
   "outputs": [],
   "source": [
    "def genetic_algorithm(fitness, crossover):\n",
    "    Best = None\n",
    "    # 1. Initialize population\n",
    "    population = init_population()\n",
    "    population = evaluate_population(population, fitness)\n",
    "    # 2. Repeat\n",
    "    found = -1\n",
    "    for i in tqdm(range(100)):\n",
    "        for p in population:\n",
    "            if Best is None or p[1] > Best[1]:\n",
    "                Best = p\n",
    "                found = fitness._calls\n",
    "        \n",
    "        if Best is not None and Best[1]==1:\n",
    "            break\n",
    "        \n",
    "        q = list()\n",
    "        for _ in range(µ//2):\n",
    "            # 2.1 Select parents\n",
    "            parent_a, parent_b = select_with_replacement(population)\n",
    "            # 2.2 Crossover\n",
    "            child_a, child_b = crossover(copy(parent_a), copy(parent_b))\n",
    "            \n",
    "            # 2.3 Mutate\n",
    "            mutated_a = mutate(child_a)\n",
    "            mutated_b = mutate(child_b)\n",
    "            q.append(mutated_a)\n",
    "            q.append(mutated_b)\n",
    "            \n",
    "        population = evaluate_population(q, fitness)\n",
    "    \n",
    "    # 4. Return best individual\n",
    "    return Best, found"
   ]
  },
  {
   "cell_type": "code",
   "execution_count": 145,
   "metadata": {},
   "outputs": [
    {
     "data": {
      "application/vnd.jupyter.widget-view+json": {
       "model_id": "c8bab1e667864d96aefc02455ee737cf",
       "version_major": 2,
       "version_minor": 0
      },
      "text/plain": [
       "  0%|          | 0/100 [00:00<?, ?it/s]"
      ]
     },
     "metadata": {},
     "output_type": "display_data"
    },
    {
     "data": {
      "application/vnd.jupyter.widget-view+json": {
       "model_id": "20963c96bd56475a8fdd008d66db3dcc",
       "version_major": 2,
       "version_minor": 0
      },
      "text/plain": [
       "  0%|          | 0/100 [00:00<?, ?it/s]"
      ]
     },
     "metadata": {},
     "output_type": "display_data"
    },
    {
     "data": {
      "application/vnd.jupyter.widget-view+json": {
       "model_id": "a0ce6e967d7146ceb455a55584190be9",
       "version_major": 2,
       "version_minor": 0
      },
      "text/plain": [
       "  0%|          | 0/100 [00:00<?, ?it/s]"
      ]
     },
     "metadata": {},
     "output_type": "display_data"
    },
    {
     "data": {
      "application/vnd.jupyter.widget-view+json": {
       "model_id": "01dfa740011648358f0997dc02436ecc",
       "version_major": 2,
       "version_minor": 0
      },
      "text/plain": [
       "  0%|          | 0/100 [00:00<?, ?it/s]"
      ]
     },
     "metadata": {},
     "output_type": "display_data"
    },
    {
     "name": "stdout",
     "output_type": "stream",
     "text": [
      "Problem\t1:\t54.00%,\tCalls:\t1010,\tBest found at \t440 fitness calls\n",
      "Problem\t2:\t52.40%,\tCalls:\t1010,\tBest found at \t440 fitness calls\n",
      "Problem\t5:\t38.31%,\tCalls:\t1010,\tBest found at \t440 fitness calls\n",
      "Problem\t10:\t16.21%,\tCalls:\t1010,\tBest found at \t440 fitness calls\n",
      "-------------------------------------\n"
     ]
    },
    {
     "data": {
      "application/vnd.jupyter.widget-view+json": {
       "model_id": "c419ca11b98b4ec592a4e2310b7c6cb9",
       "version_major": 2,
       "version_minor": 0
      },
      "text/plain": [
       "  0%|          | 0/100 [00:00<?, ?it/s]"
      ]
     },
     "metadata": {},
     "output_type": "display_data"
    },
    {
     "data": {
      "application/vnd.jupyter.widget-view+json": {
       "model_id": "f4104e453564401caef569e8e8fc375a",
       "version_major": 2,
       "version_minor": 0
      },
      "text/plain": [
       "  0%|          | 0/100 [00:00<?, ?it/s]"
      ]
     },
     "metadata": {},
     "output_type": "display_data"
    },
    {
     "data": {
      "application/vnd.jupyter.widget-view+json": {
       "model_id": "f03f8c87445641eabcd1127ea610d11c",
       "version_major": 2,
       "version_minor": 0
      },
      "text/plain": [
       "  0%|          | 0/100 [00:00<?, ?it/s]"
      ]
     },
     "metadata": {},
     "output_type": "display_data"
    },
    {
     "data": {
      "application/vnd.jupyter.widget-view+json": {
       "model_id": "c1b48402172844a1a354e90a883596b2",
       "version_major": 2,
       "version_minor": 0
      },
      "text/plain": [
       "  0%|          | 0/100 [00:00<?, ?it/s]"
      ]
     },
     "metadata": {},
     "output_type": "display_data"
    },
    {
     "name": "stdout",
     "output_type": "stream",
     "text": [
      "Problem\t1:\t54.80%,\tCalls:\t1010,\tBest found at \t330 fitness calls\n",
      "Problem\t2:\t51.60%,\tCalls:\t1010,\tBest found at \t330 fitness calls\n",
      "Problem\t5:\t30.69%,\tCalls:\t1010,\tBest found at \t330 fitness calls\n",
      "Problem\t10:\t25.93%,\tCalls:\t1010,\tBest found at \t330 fitness calls\n",
      "-------------------------------------\n"
     ]
    },
    {
     "data": {
      "application/vnd.jupyter.widget-view+json": {
       "model_id": "f6a27cf920bd4d05bd43c3b451bcd680",
       "version_major": 2,
       "version_minor": 0
      },
      "text/plain": [
       "  0%|          | 0/100 [00:00<?, ?it/s]"
      ]
     },
     "metadata": {},
     "output_type": "display_data"
    },
    {
     "data": {
      "application/vnd.jupyter.widget-view+json": {
       "model_id": "db9dcb26c9b9481ca14cd8de057ec13e",
       "version_major": 2,
       "version_minor": 0
      },
      "text/plain": [
       "  0%|          | 0/100 [00:00<?, ?it/s]"
      ]
     },
     "metadata": {},
     "output_type": "display_data"
    },
    {
     "data": {
      "application/vnd.jupyter.widget-view+json": {
       "model_id": "bc553ad7d9394a62a5f29adc72e298c5",
       "version_major": 2,
       "version_minor": 0
      },
      "text/plain": [
       "  0%|          | 0/100 [00:00<?, ?it/s]"
      ]
     },
     "metadata": {},
     "output_type": "display_data"
    },
    {
     "data": {
      "application/vnd.jupyter.widget-view+json": {
       "model_id": "512f3c67bc68481eb90580d9f1f5958c",
       "version_major": 2,
       "version_minor": 0
      },
      "text/plain": [
       "  0%|          | 0/100 [00:00<?, ?it/s]"
      ]
     },
     "metadata": {},
     "output_type": "display_data"
    },
    {
     "name": "stdout",
     "output_type": "stream",
     "text": [
      "Problem\t1:\t54.10%,\tCalls:\t1010,\tBest found at \t490 fitness calls\n",
      "Problem\t2:\t50.40%,\tCalls:\t1010,\tBest found at \t490 fitness calls\n",
      "Problem\t5:\t21.45%,\tCalls:\t1010,\tBest found at \t490 fitness calls\n",
      "Problem\t10:\t16.79%,\tCalls:\t1010,\tBest found at \t490 fitness calls\n",
      "-------------------------------------\n"
     ]
    }
   ],
   "source": [
    "for _ in range(3):\n",
    "    my_list = list()\n",
    "    found = -1\n",
    "    fitness = None\n",
    "    for prob in problems:\n",
    "        fitness = lab9_lib.make_problem(prob)\n",
    "        b, found = genetic_algorithm(fitness, crossover_cyclic_shift)\n",
    "        my_list.append((prob, b[1], fitness.calls))\n",
    "    for m in my_list:\n",
    "        print(f\"Problem\\t{m[0]}:\\t{m[1]:.2%},\\tCalls:\\t{m[2]},\\tBest found at \\t{found} fitness calls\")\n",
    "    print(\"-------------------------------------\")"
   ]
  },
  {
   "cell_type": "code",
   "execution_count": 146,
   "metadata": {},
   "outputs": [
    {
     "data": {
      "application/vnd.jupyter.widget-view+json": {
       "model_id": "0a8aefc6b7ed4e5e9f92aa4bf1d55063",
       "version_major": 2,
       "version_minor": 0
      },
      "text/plain": [
       "  0%|          | 0/100 [00:00<?, ?it/s]"
      ]
     },
     "metadata": {},
     "output_type": "display_data"
    },
    {
     "data": {
      "application/vnd.jupyter.widget-view+json": {
       "model_id": "4fd4627774804c17bf9c8c71041d656d",
       "version_major": 2,
       "version_minor": 0
      },
      "text/plain": [
       "  0%|          | 0/100 [00:00<?, ?it/s]"
      ]
     },
     "metadata": {},
     "output_type": "display_data"
    },
    {
     "data": {
      "application/vnd.jupyter.widget-view+json": {
       "model_id": "aea085e5fa174d079b3da2a3acb4e4f9",
       "version_major": 2,
       "version_minor": 0
      },
      "text/plain": [
       "  0%|          | 0/100 [00:00<?, ?it/s]"
      ]
     },
     "metadata": {},
     "output_type": "display_data"
    },
    {
     "data": {
      "application/vnd.jupyter.widget-view+json": {
       "model_id": "f2e85b918ec84489ad3769e63d6d71c5",
       "version_major": 2,
       "version_minor": 0
      },
      "text/plain": [
       "  0%|          | 0/100 [00:00<?, ?it/s]"
      ]
     },
     "metadata": {},
     "output_type": "display_data"
    },
    {
     "name": "stdout",
     "output_type": "stream",
     "text": [
      "Problem\t1:\t55.30%,\tCalls:\t1010,\tBest found at \t600 fitness calls\n",
      "Problem\t2:\t53.20%,\tCalls:\t1010,\tBest found at \t600 fitness calls\n",
      "Problem\t5:\t31.00%,\tCalls:\t1010,\tBest found at \t600 fitness calls\n",
      "Problem\t10:\t16.80%,\tCalls:\t1010,\tBest found at \t600 fitness calls\n",
      "-------------------------------------\n"
     ]
    },
    {
     "data": {
      "application/vnd.jupyter.widget-view+json": {
       "model_id": "7863b96fe64e41f896041b694dd9cb6d",
       "version_major": 2,
       "version_minor": 0
      },
      "text/plain": [
       "  0%|          | 0/100 [00:00<?, ?it/s]"
      ]
     },
     "metadata": {},
     "output_type": "display_data"
    },
    {
     "data": {
      "application/vnd.jupyter.widget-view+json": {
       "model_id": "717509601c894fe9a9ca3df57ff4c624",
       "version_major": 2,
       "version_minor": 0
      },
      "text/plain": [
       "  0%|          | 0/100 [00:00<?, ?it/s]"
      ]
     },
     "metadata": {},
     "output_type": "display_data"
    },
    {
     "data": {
      "application/vnd.jupyter.widget-view+json": {
       "model_id": "2d7848783eac422eace06c710277aba3",
       "version_major": 2,
       "version_minor": 0
      },
      "text/plain": [
       "  0%|          | 0/100 [00:00<?, ?it/s]"
      ]
     },
     "metadata": {},
     "output_type": "display_data"
    },
    {
     "data": {
      "application/vnd.jupyter.widget-view+json": {
       "model_id": "7c5e92d573e44f6aac3bdbb4e414b697",
       "version_major": 2,
       "version_minor": 0
      },
      "text/plain": [
       "  0%|          | 0/100 [00:00<?, ?it/s]"
      ]
     },
     "metadata": {},
     "output_type": "display_data"
    },
    {
     "name": "stdout",
     "output_type": "stream",
     "text": [
      "Problem\t1:\t54.80%,\tCalls:\t1010,\tBest found at \t530 fitness calls\n",
      "Problem\t2:\t50.60%,\tCalls:\t1010,\tBest found at \t530 fitness calls\n",
      "Problem\t5:\t29.54%,\tCalls:\t1010,\tBest found at \t530 fitness calls\n",
      "Problem\t10:\t20.23%,\tCalls:\t1010,\tBest found at \t530 fitness calls\n",
      "-------------------------------------\n"
     ]
    },
    {
     "data": {
      "application/vnd.jupyter.widget-view+json": {
       "model_id": "4cee0cd23c9c4b89bc0bd9f994daf4bf",
       "version_major": 2,
       "version_minor": 0
      },
      "text/plain": [
       "  0%|          | 0/100 [00:00<?, ?it/s]"
      ]
     },
     "metadata": {},
     "output_type": "display_data"
    },
    {
     "data": {
      "application/vnd.jupyter.widget-view+json": {
       "model_id": "7eb9b0b0f7854b3184988615427e6420",
       "version_major": 2,
       "version_minor": 0
      },
      "text/plain": [
       "  0%|          | 0/100 [00:00<?, ?it/s]"
      ]
     },
     "metadata": {},
     "output_type": "display_data"
    },
    {
     "data": {
      "application/vnd.jupyter.widget-view+json": {
       "model_id": "c2bfc39355bb422dabe7708563eb83e3",
       "version_major": 2,
       "version_minor": 0
      },
      "text/plain": [
       "  0%|          | 0/100 [00:00<?, ?it/s]"
      ]
     },
     "metadata": {},
     "output_type": "display_data"
    },
    {
     "data": {
      "application/vnd.jupyter.widget-view+json": {
       "model_id": "1d0b03d12d43470eb74cfb74a64ec2e8",
       "version_major": 2,
       "version_minor": 0
      },
      "text/plain": [
       "  0%|          | 0/100 [00:00<?, ?it/s]"
      ]
     },
     "metadata": {},
     "output_type": "display_data"
    },
    {
     "name": "stdout",
     "output_type": "stream",
     "text": [
      "Problem\t1:\t54.00%,\tCalls:\t1010,\tBest found at \t150 fitness calls\n",
      "Problem\t2:\t52.40%,\tCalls:\t1010,\tBest found at \t150 fitness calls\n",
      "Problem\t5:\t30.40%,\tCalls:\t1010,\tBest found at \t150 fitness calls\n",
      "Problem\t10:\t17.15%,\tCalls:\t1010,\tBest found at \t150 fitness calls\n",
      "-------------------------------------\n"
     ]
    }
   ],
   "source": [
    "for _ in range(3):\n",
    "    my_list = list()\n",
    "    found = -1\n",
    "    fitness = None\n",
    "    for prob in problems:\n",
    "        fitness = lab9_lib.make_problem(prob)\n",
    "        b, found = genetic_algorithm(fitness, std_crossover)\n",
    "        my_list.append((prob, b[1], fitness.calls))\n",
    "    for m in my_list:\n",
    "        print(f\"Problem\\t{m[0]}:\\t{m[1]:.2%},\\tCalls:\\t{m[2]},\\tBest found at \\t{found} fitness calls\")\n",
    "    print(\"-------------------------------------\")"
   ]
  },
  {
   "cell_type": "code",
   "execution_count": 147,
   "metadata": {},
   "outputs": [
    {
     "name": "stdout",
     "output_type": "stream",
     "text": [
      "P1\n",
      "01001...: 49.10%\n",
      "11011...: 49.50%\n",
      "10001...: 49.10%\n",
      "00110...: 52.40%\n",
      "01101...: 50.50%\n",
      "10110...: 47.10%\n",
      "10110...: 51.50%\n",
      "11111...: 49.90%\n",
      "01100...: 52.50%\n",
      "01101...: 54.50%\n",
      "10\n",
      "-------------------------------------\n",
      "P2\n",
      "00000...: 23.24%\n",
      "10001...: 50.60%\n",
      "00001...: 23.85%\n",
      "10111...: 23.52%\n",
      "00110...: 23.72%\n",
      "10011...: 23.46%\n",
      "11000...: 22.61%\n",
      "01100...: 24.71%\n",
      "10010...: 23.75%\n",
      "00000...: 22.90%\n",
      "10\n",
      "-------------------------------------\n",
      "P5\n",
      "01110...: 9.96%\n",
      "10110...: 10.35%\n",
      "10001...: 10.43%\n",
      "10011...: 9.54%\n",
      "00110...: 21.45%\n",
      "10001...: 10.02%\n",
      "01010...: 9.38%\n",
      "11100...: 10.13%\n",
      "00000...: 9.13%\n",
      "10110...: 9.74%\n",
      "10\n",
      "-------------------------------------\n",
      "P10\n",
      "10010...: 5.21%\n",
      "00101...: 5.31%\n",
      "11111...: 10.79%\n",
      "01000...: 10.41%\n",
      "10001...: 4.90%\n",
      "01101...: 5.47%\n",
      "01011...: 5.26%\n",
      "01111...: 4.90%\n",
      "01110...: 5.44%\n",
      "00110...: 5.28%\n",
      "10\n"
     ]
    }
   ],
   "source": [
    "print(\"P1\")\n",
    "\n",
    "fitness = lab9_lib.make_problem(1)\n",
    "for n in range(10):\n",
    "    ind = choices([0, 1], k=1000)\n",
    "    print(f\"{''.join(str(g) for g in ind[0:5])}...: {fitness(ind):.2%}\")\n",
    "\n",
    "print(fitness.calls)\n",
    "\n",
    "print(\"-------------------------------------\")\n",
    "print(\"P2\")\n",
    "fitness = lab9_lib.make_problem(2)\n",
    "for n in range(10):\n",
    "    ind = choices([0, 1], k=1000)\n",
    "    print(f\"{''.join(str(g) for g in ind[0:5])}...: {fitness(ind):.2%}\")\n",
    "\n",
    "print(fitness.calls)\n",
    "\n",
    "print(\"-------------------------------------\")\n",
    "print(\"P5\")\n",
    "fitness = lab9_lib.make_problem(5)\n",
    "for n in range(10):\n",
    "    ind = choices([0, 1], k=1000)\n",
    "    print(f\"{''.join(str(g) for g in ind[0:5])}...: {fitness(ind):.2%}\")\n",
    "\n",
    "print(fitness.calls)\n",
    "\n",
    "print(\"-------------------------------------\")\n",
    "print(\"P10\")\n",
    "fitness = lab9_lib.make_problem(10)\n",
    "for n in range(10):\n",
    "    ind = choices([0, 1], k=1000)\n",
    "    print(f\"{''.join(str(g) for g in ind[0:5])}...: {fitness(ind):.2%}\")\n",
    "\n",
    "print(fitness.calls)"
   ]
  },
  {
   "cell_type": "code",
   "execution_count": 148,
   "metadata": {},
   "outputs": [
    {
     "name": "stdout",
     "output_type": "stream",
     "text": [
      "11110111110110110100011110101110000110011011000110: 60.00%\n",
      "00101011010110001011110111011001001010001001101111: 54.00%\n",
      "10100100101000010000011110001011100110011111101011: 50.00%\n",
      "01111010011101111010100101100010111011000010000100: 50.00%\n",
      "00001110111010110010101010100001010000000001100101: 40.00%\n",
      "10100011001110101110010101110001110111000110110011: 56.00%\n",
      "01111110001100000100011000000111000100001110011011: 44.00%\n",
      "10111001011011011100011011111110001100001011000100: 54.00%\n",
      "01010110011101010000000011110110111110101010100110: 52.00%\n",
      "01011110011011100110101010100000110111111101011100: 58.00%\n",
      "10\n"
     ]
    }
   ],
   "source": [
    "fitness = lab9_lib.make_problem(1)\n",
    "for n in range(10):\n",
    "    ind = choices([0, 1], k=50)\n",
    "    print(f\"{''.join(str(g) for g in ind)}: {fitness(ind):.2%}\")\n",
    "\n",
    "print(fitness.calls)"
   ]
  }
 ],
 "metadata": {
  "kernelspec": {
   "display_name": "ci-fLJ3OwGs-py3.12",
   "language": "python",
   "name": "python3"
  },
  "language_info": {
   "codemirror_mode": {
    "name": "ipython",
    "version": 3
   },
   "file_extension": ".py",
   "mimetype": "text/x-python",
   "name": "python",
   "nbconvert_exporter": "python",
   "pygments_lexer": "ipython3",
   "version": "3.12.0"
  }
 },
 "nbformat": 4,
 "nbformat_minor": 2
}

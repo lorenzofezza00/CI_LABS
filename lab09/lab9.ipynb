{
 "cells": [
  {
   "cell_type": "markdown",
   "metadata": {},
   "source": [
    "Copyright **`(c)`** 2023 Giovanni Squillero `<giovanni.squillero@polito.it>`  \n",
    "[`https://github.com/squillero/computational-intelligence`](https://github.com/squillero/computational-intelligence)  \n",
    "Free for personal or classroom use; see [`LICENSE.md`](https://github.com/squillero/computational-intelligence/blob/master/LICENSE.md) for details.  "
   ]
  },
  {
   "cell_type": "markdown",
   "metadata": {},
   "source": [
    "# LAB9\n",
    "\n",
    "Write a local-search algorithm (eg. an EA) able to solve the *Problem* instances 1, 2, 5, and 10 on a 1000-loci genomes, using a minimum number of fitness calls. That's all.\n",
    "\n",
    "### Deadlines:\n",
    "\n",
    "* Submission: Sunday, December 3 ([CET](https://www.timeanddate.com/time/zones/cet))\n",
    "* Reviews: Sunday, December 10 ([CET](https://www.timeanddate.com/time/zones/cet))\n",
    "\n",
    "Notes:\n",
    "\n",
    "* Reviews will be assigned  on Monday, December 4\n",
    "* You need to commit in order to be selected as a reviewer (ie. better to commit an empty work than not to commit)"
   ]
  },
  {
   "cell_type": "code",
   "execution_count": 310,
   "metadata": {},
   "outputs": [],
   "source": [
    "import random\n",
    "from random import choices\n",
    "from copy import copy\n",
    "import lab9_lib"
   ]
  },
  {
   "cell_type": "markdown",
   "metadata": {},
   "source": [
    "# Local Search:\n",
    "Local search is a heuristic method for solving computationally hard optimization problems. Local search can be used on problems that can be formulated as finding a solution maximizing a criterion among a number of candidate solutions. Local search algorithms move from solution to solution in the space of candidate solutions (the search space) by applying local changes, until a solution deemed optimal is found or a time bound is elapsed."
   ]
  },
  {
   "cell_type": "code",
   "execution_count": 311,
   "metadata": {},
   "outputs": [],
   "source": [
    "l = 1000\n",
    "problems = [1, 2, 5, 10]\n",
    "half_pop_size = 5\n",
    "µ = 2 * half_pop_size"
   ]
  },
  {
   "cell_type": "markdown",
   "metadata": {},
   "source": [
    "## Implementation:\n",
    "Idea: with the fitness function I can see which pieces of string are important and which are not, and therefore I can preserve the important pieces and throw away the useless ones.\n",
    "\n",
    "IMPORTANT: PROMOTE DIVERSITY (I can do it in the selection, crossover and mutation)\n",
    "* distance metric: \n",
    "  - how far the individual is from a subset of the population to the whole population\n",
    "  - from a single individual\n",
    "* property of the population\n",
    "\n",
    "3 levels of diversity:\n",
    "* phenotype\n",
    "* genotype\n",
    "* fitness"
   ]
  },
  {
   "cell_type": "code",
   "execution_count": 317,
   "metadata": {},
   "outputs": [],
   "source": [
    "#invece che fare find distribution potrei fare direttamente una funzione che mi prende inf e sup di ogni serie consecutiva di 1\n",
    "def find_distribution(individual):\n",
    "    vars = []\n",
    "    means = []\n",
    "    \n",
    "    curr_var = 0\n",
    "    curr_mean = None\n",
    "\n",
    "    for i, val in enumerate(individual):\n",
    "        if val == 1:\n",
    "            curr_var += 1\n",
    "            if curr_mean is None:\n",
    "                curr_mean = i\n",
    "        else:\n",
    "            if curr_var > 0:\n",
    "                vars.append(curr_var)\n",
    "                means.append(curr_mean + curr_var // 2)\n",
    "\n",
    "                curr_var = 0\n",
    "                curr_mean = None\n",
    "\n",
    "    # Add the last interval if terminates with 1\n",
    "    if curr_var > 0:\n",
    "        vars.append(curr_var)\n",
    "        means.append(curr_mean + curr_var // 2)\n",
    "\n",
    "    return list(zip(vars, means))\n",
    "\n",
    "def calculate_overlapping(m1, v1, m2, v2):\n",
    "    inf_1 = m1 - v1 / 2\n",
    "    sup_1 = m1 + v1 / 2\n",
    "    inf_2 = m2 - v2 / 2\n",
    "    sup_2 = m2 + v2 / 2\n",
    "\n",
    "    overlapping = min(sup_1, sup_2) - max(inf_1, inf_2)\n",
    "\n",
    "    if overlapping > 0:\n",
    "        return overlapping\n",
    "    else:\n",
    "        return 0\n",
    "\n",
    "# Evaluate diversity\n",
    "def evaluate_diversity(e1, e2):\n",
    "    diversity = 0\n",
    "    for m1, v1 in e1:\n",
    "        for m2, v2 in e2:\n",
    "            diversity += calculate_overlapping(m1, v1, m2, v2)\n",
    "    return diversity\n",
    "    \n",
    "                "
   ]
  },
  {
   "cell_type": "code",
   "execution_count": 312,
   "metadata": {},
   "outputs": [],
   "source": [
    "def init_population():\n",
    "    return [(choices([0, 1], k=l), 0.0) for _ in range(µ)]\n",
    "\n",
    "def evaluate_population(population, fitness):\n",
    "    return [(individual[0], fitness(individual[0])) for individual in population]\n",
    "\n",
    "def select_with_replacement(population):\n",
    "    # select a random individual from the population\n",
    "    # find the individual with \n",
    "    # the highest fitness, \n",
    "    # the vector with the most distinct distribution of ones compared to the others\n",
    "    pop_distr = [find_distribution(individual[0]) for individual in population]\n",
    "    div_matr = [[0 for _ in range(len(population))] for _ in range(len(population))]\n",
    "    for i1, p1 in enumerate(pop_distr):\n",
    "        for i2, p2 in enumerate(pop_distr):\n",
    "            if i1 != i2:\n",
    "                div_matr[i1][i2] = evaluate_diversity(p1[0], p2[0])\n",
    "    # find indexes of 2 individuals with highest fitness and highest diversity\n",
    "    \n",
    "\n",
    "    return random.choice(population)\n",
    "\n",
    "def crossover(parent1, parent2):\n",
    "    # a two (rand) point crossover for now\n",
    "    # provare a fare lo swapping di due sottostringhe di stessa lunghezza ma posizione casuale invece che stessa posizione\n",
    "    v = parent1[0]\n",
    "    w = parent2[0]\n",
    "    c = random.randint(0, l)\n",
    "    d = random.randint(0, l)\n",
    "    if c > d:\n",
    "        c, d = d, c\n",
    "    if c != d:\n",
    "        v[c:d], w[c:d] = w[c:d], v[c:d]\n",
    "    return (v, 0.0), (w, 0.0)\n",
    "\n",
    "def mutate(individual):\n",
    "    # bit flip mutation for now\n",
    "    p = 0.5\n",
    "    v = individual[0]\n",
    "    for i in range(l):\n",
    "        if p >= random.random():\n",
    "            v[i] = 1 - v[i]\n",
    "    return individual\n"
   ]
  },
  {
   "cell_type": "code",
   "execution_count": null,
   "metadata": {},
   "outputs": [],
   "source": [
    "def genetic_algorithm(fitness):\n",
    "    Best = None\n",
    "    # 1. Initialize population\n",
    "    population = init_population()\n",
    "    population = evaluate_population(population, fitness)\n",
    "    # 2. Repeat\n",
    "    for i in range(100):\n",
    "        for p in population:\n",
    "            if Best is None or p[1] > Best[1]:\n",
    "                Best = p\n",
    "        \n",
    "        if Best is not None and Best[1]==1:\n",
    "            break\n",
    "        \n",
    "        q = list()\n",
    "        for _ in range(µ//2):\n",
    "            # 2.1 Select parents\n",
    "            parent_a = select_with_replacement(population)\n",
    "            parent_b = select_with_replacement(population)\n",
    "            # 2.2 Crossover\n",
    "            child_a, child_b = crossover(copy(parent_a), copy(parent_b))\n",
    "            \n",
    "            # 2.3 Mutate\n",
    "            mutated_a = mutate(child_a)\n",
    "            mutated_b = mutate(child_b)\n",
    "            q.append(mutated_a)\n",
    "            q.append(mutated_b)\n",
    "            \n",
    "        population = evaluate_population(q, fitness)\n",
    "    \n",
    "    # 4. Return best individual\n",
    "    return Best"
   ]
  },
  {
   "cell_type": "code",
   "execution_count": null,
   "metadata": {},
   "outputs": [
    {
     "name": "stdout",
     "output_type": "stream",
     "text": [
      "Problem\t1:\t54.40%,\tCalls:\t1010\n",
      "Problem\t2:\t50.80%,\tCalls:\t1010\n",
      "Problem\t5:\t30.97%,\tCalls:\t1010\n",
      "Problem\t10:\t15.90%,\tCalls:\t1010\n",
      "-------------------------------------\n",
      "Problem\t1:\t56.30%,\tCalls:\t1010\n",
      "Problem\t2:\t48.80%,\tCalls:\t1010\n",
      "Problem\t5:\t20.86%,\tCalls:\t1010\n",
      "Problem\t10:\t20.24%,\tCalls:\t1010\n",
      "-------------------------------------\n",
      "Problem\t1:\t54.80%,\tCalls:\t1010\n",
      "Problem\t2:\t51.00%,\tCalls:\t1010\n",
      "Problem\t5:\t30.97%,\tCalls:\t1010\n",
      "Problem\t10:\t15.63%,\tCalls:\t1010\n",
      "-------------------------------------\n",
      "Problem\t1:\t54.80%,\tCalls:\t1010\n",
      "Problem\t2:\t50.80%,\tCalls:\t1010\n",
      "Problem\t5:\t21.10%,\tCalls:\t1010\n",
      "Problem\t10:\t20.62%,\tCalls:\t1010\n",
      "-------------------------------------\n",
      "Problem\t1:\t53.90%,\tCalls:\t1010\n",
      "Problem\t2:\t52.20%,\tCalls:\t1010\n",
      "Problem\t5:\t29.49%,\tCalls:\t1010\n",
      "Problem\t10:\t16.49%,\tCalls:\t1010\n",
      "-------------------------------------\n",
      "Problem\t1:\t53.70%,\tCalls:\t1010\n",
      "Problem\t2:\t50.40%,\tCalls:\t1010\n",
      "Problem\t5:\t21.28%,\tCalls:\t1010\n",
      "Problem\t10:\t11.38%,\tCalls:\t1010\n",
      "-------------------------------------\n",
      "Problem\t1:\t54.30%,\tCalls:\t1010\n",
      "Problem\t2:\t25.26%,\tCalls:\t1010\n",
      "Problem\t5:\t29.79%,\tCalls:\t1010\n",
      "Problem\t10:\t15.92%,\tCalls:\t1010\n",
      "-------------------------------------\n",
      "Problem\t1:\t53.10%,\tCalls:\t1010\n",
      "Problem\t2:\t48.40%,\tCalls:\t1010\n",
      "Problem\t5:\t22.21%,\tCalls:\t1010\n",
      "Problem\t10:\t16.48%,\tCalls:\t1010\n",
      "-------------------------------------\n",
      "Problem\t1:\t55.50%,\tCalls:\t1010\n",
      "Problem\t2:\t52.40%,\tCalls:\t1010\n",
      "Problem\t5:\t39.04%,\tCalls:\t1010\n",
      "Problem\t10:\t21.01%,\tCalls:\t1010\n",
      "-------------------------------------\n",
      "Problem\t1:\t53.80%,\tCalls:\t1010\n",
      "Problem\t2:\t51.20%,\tCalls:\t1010\n",
      "Problem\t5:\t20.46%,\tCalls:\t1010\n",
      "Problem\t10:\t15.90%,\tCalls:\t1010\n",
      "-------------------------------------\n"
     ]
    }
   ],
   "source": [
    "for _ in range(10):\n",
    "    my_list = list()\n",
    "\n",
    "    for prob in problems:\n",
    "        fitness = lab9_lib.make_problem(prob)\n",
    "        b = genetic_algorithm(fitness)\n",
    "        my_list.append((prob, b[1], fitness.calls))\n",
    "\n",
    "    for m in my_list:\n",
    "        print(f\"Problem\\t{m[0]}:\\t{m[1]:.2%},\\tCalls:\\t{m[2]}\")\n",
    "    print(\"-------------------------------------\")"
   ]
  },
  {
   "cell_type": "code",
   "execution_count": null,
   "metadata": {},
   "outputs": [
    {
     "name": "stdout",
     "output_type": "stream",
     "text": [
      "10001...: 47.80%\n",
      "00001...: 48.00%\n",
      "10010...: 50.00%\n",
      "01101...: 50.40%\n",
      "01010...: 49.00%\n",
      "01101...: 49.70%\n",
      "10011...: 50.60%\n",
      "11111...: 50.80%\n",
      "10100...: 49.60%\n",
      "00001...: 49.40%\n",
      "10\n"
     ]
    }
   ],
   "source": [
    "fitness = lab9_lib.make_problem(1)\n",
    "for n in range(10):\n",
    "    ind = choices([0, 1], k=1000)\n",
    "    print(f\"{''.join(str(g) for g in ind[0:5])}...: {fitness(ind):.2%}\")\n",
    "\n",
    "print(fitness.calls)"
   ]
  },
  {
   "cell_type": "code",
   "execution_count": null,
   "metadata": {},
   "outputs": [
    {
     "name": "stdout",
     "output_type": "stream",
     "text": [
      "10010001000001100100010010101101010101001110011000: 40.00%\n",
      "10100101010000001111110110110010001001000111111010: 50.00%\n",
      "00010011011110010111010000000010100010110100000001: 38.00%\n",
      "10000000011101001000000111000110001110010111110001: 42.00%\n",
      "11001101010110001111000100111001011111000000100110: 50.00%\n",
      "00010101011110110110111111100000101001110010000111: 54.00%\n",
      "01001001000001001101100001011100000010001001101011: 38.00%\n",
      "01000101001011000101111000010101110111110101001101: 52.00%\n",
      "00100101011001111110010111001010101110010110110011: 56.00%\n",
      "00010001001000011110110111001000101010011100101000: 42.00%\n",
      "10\n"
     ]
    }
   ],
   "source": [
    "fitness = lab9_lib.make_problem(1)\n",
    "for n in range(10):\n",
    "    ind = choices([0, 1], k=50)\n",
    "    print(f\"{''.join(str(g) for g in ind)}: {fitness(ind):.2%}\")\n",
    "\n",
    "print(fitness.calls)"
   ]
  }
 ],
 "metadata": {
  "kernelspec": {
   "display_name": "ci-fLJ3OwGs-py3.12",
   "language": "python",
   "name": "python3"
  },
  "language_info": {
   "codemirror_mode": {
    "name": "ipython",
    "version": 3
   },
   "file_extension": ".py",
   "mimetype": "text/x-python",
   "name": "python",
   "nbconvert_exporter": "python",
   "pygments_lexer": "ipython3",
   "version": "3.12.0"
  }
 },
 "nbformat": 4,
 "nbformat_minor": 2
}

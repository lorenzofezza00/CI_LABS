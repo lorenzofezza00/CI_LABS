{
 "cells": [
  {
   "cell_type": "markdown",
   "metadata": {},
   "source": [
    "Copyright **`(c)`** 2023 Giovanni Squillero `<giovanni.squillero@polito.it>`  \n",
    "[`https://github.com/squillero/computational-intelligence`](https://github.com/squillero/computational-intelligence)  \n",
    "Free for personal or classroom use; see [`LICENSE.md`](https://github.com/squillero/computational-intelligence/blob/master/LICENSE.md) for details.  "
   ]
  },
  {
   "cell_type": "markdown",
   "metadata": {},
   "source": [
    "# LAB9\n",
    "\n",
    "Write a local-search algorithm (eg. an EA) able to solve the *Problem* instances 1, 2, 5, and 10 on a 1000-loci genomes, using a minimum number of fitness calls. That's all.\n",
    "\n",
    "### Deadlines:\n",
    "\n",
    "* Submission: Sunday, December 3 ([CET](https://www.timeanddate.com/time/zones/cet))\n",
    "* Reviews: Sunday, December 10 ([CET](https://www.timeanddate.com/time/zones/cet))\n",
    "\n",
    "Notes:\n",
    "\n",
    "* Reviews will be assigned  on Monday, December 4\n",
    "* You need to commit in order to be selected as a reviewer (ie. better to commit an empty work than not to commit)"
   ]
  },
  {
   "cell_type": "code",
   "execution_count": 191,
   "metadata": {},
   "outputs": [],
   "source": [
    "import random\n",
    "from random import choices\n",
    "from copy import copy\n",
    "import lab9_lib"
   ]
  },
  {
   "cell_type": "markdown",
   "metadata": {},
   "source": [
    "# Local Search:\n",
    "Local search is a heuristic method for solving computationally hard optimization problems. Local search can be used on problems that can be formulated as finding a solution maximizing a criterion among a number of candidate solutions. Local search algorithms move from solution to solution in the space of candidate solutions (the search space) by applying local changes, until a solution deemed optimal is found or a time bound is elapsed.\n",
    "\n",
    "## Evolutionary Algorithm implementation :\n"
   ]
  },
  {
   "cell_type": "markdown",
   "metadata": {},
   "source": [
    "Voglio trovare la combinazione di 0/1 che massimizza la fitness minimizzando il numero di chiamate alla fitness.\n",
    "Il prof prende combinazioni a caso di 0 e 1 in una stringa da 50 bit e la valuta chiamando la fitness, che, ogni volta che é chiamata, incrementa un contatore.\n",
    "\n",
    "Idea: con la fitness posso vedere quali pezzi di stringa sono importanti e quali no, e quindi posso preservare i pezzi importanti e buttare via quelli inutili."
   ]
  },
  {
   "cell_type": "markdown",
   "metadata": {},
   "source": [
    "Step One: \n",
    "  - Generate the initial population of individuals randomly. (First generation)\n",
    "\n",
    "Step Two: \n",
    "  - Repeat the following regenerational steps until termination:\n",
    "    - Evaluate the fitness of each individual in the population (time limit, sufficient fitness achieved, etc.)\n",
    "    - Select the fittest individuals for reproduction. (Parents)\n",
    "    - Breed new individuals through crossover and mutation operations to give birth to offspring.\n",
    "    - Replace the least-fit individuals of the population with new individuals."
   ]
  },
  {
   "cell_type": "code",
   "execution_count": 192,
   "metadata": {},
   "outputs": [],
   "source": [
    "µ = 2 * 5"
   ]
  },
  {
   "cell_type": "code",
   "execution_count": 193,
   "metadata": {},
   "outputs": [],
   "source": [
    "def init_population():\n",
    "    return [(choices([0, 1], k=1000), 0.0) for _ in range(µ)]\n",
    "\n",
    "def evaluate_population(population, fitness):\n",
    "    return [(individual[0], fitness(individual[0])) for individual in population]\n",
    "\n",
    "def select_with_replacement(population):\n",
    "    # random for now\n",
    "    return random.choice(population)\n",
    "\n",
    "def crossover(parent1, parent2):\n",
    "    # nothing for now\n",
    "    return parent1, parent2\n",
    "\n",
    "def mutate(individual):\n",
    "    # nothing for now\n",
    "    return individual\n"
   ]
  },
  {
   "cell_type": "code",
   "execution_count": 194,
   "metadata": {},
   "outputs": [
    {
     "data": {
      "text/plain": [
       "[(0.543, 1010), (0.2396, 1010), (0.1033598, 1010), (0.10844556707, 1010)]"
      ]
     },
     "execution_count": 194,
     "metadata": {},
     "output_type": "execute_result"
    }
   ],
   "source": [
    "def genetic_algorithm(fitness):\n",
    "    Best = None\n",
    "    # 1. Initialize population\n",
    "    population = init_population()\n",
    "    population = evaluate_population(population, fitness)\n",
    "    # 2. Repeat\n",
    "    for i in range(100):\n",
    "        for p in population:\n",
    "            if Best is None or p[1] > Best[1]:\n",
    "                Best = p\n",
    "        q = list()\n",
    "        for _ in range(µ//2):\n",
    "            # 2.1 Select parents\n",
    "            parent_a = select_with_replacement(population)\n",
    "            parent_b = select_with_replacement(population)\n",
    "            # 2.2 Crossover\n",
    "            child_a, child_b = crossover(copy(parent_a), copy(parent_b))\n",
    "            \n",
    "            # 2.3 Mutate\n",
    "            mutated_a = mutate(child_a)\n",
    "            mutated_b = mutate(child_b)\n",
    "            q.append(mutated_a)\n",
    "            q.append(mutated_b)\n",
    "            \n",
    "        population = evaluate_population(q, fitness)\n",
    "\n",
    "        if Best is not None and Best[1]==1:\n",
    "            break\n",
    "    \n",
    "    # 4. Return best individual\n",
    "    return Best\n",
    "\n",
    "\n",
    "my_list = list()\n",
    "fitness = lab9_lib.make_problem(1)\n",
    "b = genetic_algorithm(fitness)\n",
    "my_list.append((b[1], fitness.calls))\n",
    "\n",
    "fitness = lab9_lib.make_problem(2)\n",
    "b = genetic_algorithm(fitness)\n",
    "my_list.append((b[1], fitness.calls))\n",
    "\n",
    "fitness = lab9_lib.make_problem(5)\n",
    "b = genetic_algorithm(fitness)\n",
    "my_list.append((b[1], fitness.calls))\n",
    "\n",
    "fitness = lab9_lib.make_problem(10)\n",
    "b = genetic_algorithm(fitness)\n",
    "my_list.append((b[1], fitness.calls))\n",
    "\n",
    "my_list"
   ]
  },
  {
   "cell_type": "code",
   "execution_count": 196,
   "metadata": {},
   "outputs": [
    {
     "name": "stdout",
     "output_type": "stream",
     "text": [
      "01111101100101011101011110010101011011111101100110: 64.00%\n",
      "00000100111011000111100111101000101100010011011100: 48.00%\n",
      "11111101001100000010010001100110000000101001110001: 42.00%\n",
      "11010010100110011011101110100100100011111000101011: 54.00%\n",
      "00110101011110100100111010100101001010010011100100: 48.00%\n",
      "00100111111111000010011000101100001000001110011011: 48.00%\n",
      "10001000110111110010110001000001010001111101111101: 52.00%\n",
      "01010011110000111010110001111011101000010110000111: 52.00%\n",
      "11101100000011100000100001011011000101010011100101: 44.00%\n",
      "00110110110111001110111001110111111001001111101100: 64.00%\n",
      "10\n"
     ]
    }
   ],
   "source": [
    "fitness = lab9_lib.make_problem(1)\n",
    "for n in range(10):\n",
    "    ind = choices([0, 1], k=50)\n",
    "    print(f\"{''.join(str(g) for g in ind)}: {fitness(ind):.2%}\")\n",
    "\n",
    "print(fitness.calls)"
   ]
  }
 ],
 "metadata": {
  "kernelspec": {
   "display_name": "ci-fLJ3OwGs-py3.12",
   "language": "python",
   "name": "python3"
  },
  "language_info": {
   "codemirror_mode": {
    "name": "ipython",
    "version": 3
   },
   "file_extension": ".py",
   "mimetype": "text/x-python",
   "name": "python",
   "nbconvert_exporter": "python",
   "pygments_lexer": "ipython3",
   "version": "3.12.0"
  }
 },
 "nbformat": 4,
 "nbformat_minor": 2
}

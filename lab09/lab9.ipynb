{
 "cells": [
  {
   "cell_type": "markdown",
   "metadata": {},
   "source": [
    "Copyright **`(c)`** 2023 Giovanni Squillero `<giovanni.squillero@polito.it>`  \n",
    "[`https://github.com/squillero/computational-intelligence`](https://github.com/squillero/computational-intelligence)  \n",
    "Free for personal or classroom use; see [`LICENSE.md`](https://github.com/squillero/computational-intelligence/blob/master/LICENSE.md) for details.  "
   ]
  },
  {
   "cell_type": "markdown",
   "metadata": {},
   "source": [
    "# LAB9\n",
    "\n",
    "Write a local-search algorithm (eg. an EA) able to solve the *Problem* instances 1, 2, 5, and 10 on a 1000-loci genomes, using a minimum number of fitness calls. That's all.\n",
    "\n",
    "### Deadlines:\n",
    "\n",
    "* Submission: Sunday, December 3 ([CET](https://www.timeanddate.com/time/zones/cet))\n",
    "* Reviews: Sunday, December 10 ([CET](https://www.timeanddate.com/time/zones/cet))\n",
    "\n",
    "Notes:\n",
    "\n",
    "* Reviews will be assigned  on Monday, December 4\n",
    "* You need to commit in order to be selected as a reviewer (ie. better to commit an empty work than not to commit)"
   ]
  },
  {
   "cell_type": "code",
   "execution_count": 279,
   "metadata": {},
   "outputs": [],
   "source": [
    "import random\n",
    "from random import choices\n",
    "from copy import copy\n",
    "import lab9_lib"
   ]
  },
  {
   "cell_type": "markdown",
   "metadata": {},
   "source": [
    "# Local Search:\n",
    "Local search is a heuristic method for solving computationally hard optimization problems. Local search can be used on problems that can be formulated as finding a solution maximizing a criterion among a number of candidate solutions. Local search algorithms move from solution to solution in the space of candidate solutions (the search space) by applying local changes, until a solution deemed optimal is found or a time bound is elapsed.\n",
    "\n",
    "## Evolutionary Algorithm implementation :\n"
   ]
  },
  {
   "cell_type": "markdown",
   "metadata": {},
   "source": [
    "Voglio trovare la combinazione di 0/1 che massimizza la fitness minimizzando il numero di chiamate alla fitness.\n",
    "Il prof prende combinazioni a caso di 0 e 1 in una stringa da 50 bit e la valuta chiamando la fitness, che, ogni volta che é chiamata, incrementa un contatore.\n",
    "\n",
    "Idea: con la fitness posso vedere quali pezzi di stringa sono importanti e quali no, e quindi posso preservare i pezzi importanti e buttare via quelli inutili."
   ]
  },
  {
   "cell_type": "markdown",
   "metadata": {},
   "source": [
    "Step One: \n",
    "  - Generate the initial population of individuals randomly. (First generation)\n",
    "\n",
    "Step Two: \n",
    "  - Repeat the following regenerational steps until termination:\n",
    "    - Evaluate the fitness of each individual in the population (time limit, sufficient fitness achieved, etc.)\n",
    "    - Select the fittest individuals for reproduction. (Parents)\n",
    "    - Breed new individuals through crossover and mutation operations to give birth to offspring.\n",
    "    - Replace the least-fit individuals of the population with new individuals."
   ]
  },
  {
   "cell_type": "code",
   "execution_count": 280,
   "metadata": {},
   "outputs": [],
   "source": [
    "l = 1000\n",
    "problems = [1, 2, 5, 10]\n",
    "half_pop_size = 5\n",
    "µ = 2 * half_pop_size"
   ]
  },
  {
   "cell_type": "code",
   "execution_count": 281,
   "metadata": {},
   "outputs": [],
   "source": [
    "def init_population():\n",
    "    return [(choices([0, 1], k=l), 0.0) for _ in range(µ)]\n",
    "\n",
    "def evaluate_population(population, fitness):\n",
    "    return [(individual[0], fitness(individual[0])) for individual in population]\n",
    "\n",
    "def select_with_replacement(population):\n",
    "    # select a random individual from the population\n",
    "    return random.choice(population)\n",
    "\n",
    "def crossover(parent1, parent2):\n",
    "    # a two point crossover for now\n",
    "    v = parent1[0]\n",
    "    w = parent2[0]\n",
    "    c = random.randint(0, l)\n",
    "    d = random.randint(0, l)\n",
    "    if c > d:\n",
    "        c, d = d, c\n",
    "    if c != d:\n",
    "        v[c:d], w[c:d] = w[c:d], v[c:d]\n",
    "    return (v, 0.0), (w, 0.0)\n",
    "\n",
    "def mutate(individual):\n",
    "    # bit flip mutation for now\n",
    "    p = 0.5\n",
    "    v = individual[0]\n",
    "    for i in range(l):\n",
    "        if p >= random.random():\n",
    "            v[i] = 1 - v[i]\n",
    "    return individual\n"
   ]
  },
  {
   "cell_type": "code",
   "execution_count": 282,
   "metadata": {},
   "outputs": [
    {
     "name": "stdout",
     "output_type": "stream",
     "text": [
      "Problem\t1:\t53.40%,\tCalls:\t1010\n",
      "Problem\t2:\t50.40%,\tCalls:\t1010\n",
      "Problem\t5:\t30.13%,\tCalls:\t1010\n",
      "Problem\t10:\t24.47%,\tCalls:\t1010\n"
     ]
    }
   ],
   "source": [
    "def genetic_algorithm(fitness):\n",
    "    Best = None\n",
    "    # 1. Initialize population\n",
    "    population = init_population()\n",
    "    population = evaluate_population(population, fitness)\n",
    "    # 2. Repeat\n",
    "    for i in range(100):\n",
    "        for p in population:\n",
    "            if Best is None or p[1] > Best[1]:\n",
    "                Best = p\n",
    "        \n",
    "        if Best is not None and Best[1]==1:\n",
    "            break\n",
    "        \n",
    "        q = list()\n",
    "        for _ in range(µ//2):\n",
    "            # 2.1 Select parents\n",
    "            parent_a = select_with_replacement(population)\n",
    "            parent_b = select_with_replacement(population)\n",
    "            # 2.2 Crossover\n",
    "            child_a, child_b = crossover(copy(parent_a), copy(parent_b))\n",
    "            \n",
    "            # 2.3 Mutate\n",
    "            mutated_a = mutate(child_a)\n",
    "            mutated_b = mutate(child_b)\n",
    "            q.append(mutated_a)\n",
    "            q.append(mutated_b)\n",
    "            \n",
    "        population = evaluate_population(q, fitness)\n",
    "    \n",
    "    # 4. Return best individual\n",
    "    return Best\n",
    "my_list = list()\n",
    "\n",
    "for prob in problems:\n",
    "    fitness = lab9_lib.make_problem(prob)\n",
    "    b = genetic_algorithm(fitness)\n",
    "    my_list.append((prob, b[1], fitness.calls))\n",
    "\n",
    "for m in my_list:\n",
    "    print(f\"Problem\\t{m[0]}:\\t{m[1]:.2%},\\tCalls:\\t{m[2]}\")"
   ]
  },
  {
   "cell_type": "code",
   "execution_count": 283,
   "metadata": {},
   "outputs": [
    {
     "name": "stdout",
     "output_type": "stream",
     "text": [
      "11110...: 51.00%\n",
      "00001...: 51.50%\n",
      "00100...: 51.40%\n",
      "00011...: 46.60%\n",
      "01110...: 50.10%\n",
      "00100...: 48.10%\n",
      "10101...: 49.40%\n",
      "00010...: 49.60%\n",
      "00111...: 50.10%\n",
      "10000...: 50.00%\n",
      "10\n"
     ]
    }
   ],
   "source": [
    "fitness = lab9_lib.make_problem(1)\n",
    "for n in range(10):\n",
    "    ind = choices([0, 1], k=1000)\n",
    "    print(f\"{''.join(str(g) for g in ind[0:5])}...: {fitness(ind):.2%}\")\n",
    "\n",
    "print(fitness.calls)"
   ]
  },
  {
   "cell_type": "code",
   "execution_count": 284,
   "metadata": {},
   "outputs": [
    {
     "name": "stdout",
     "output_type": "stream",
     "text": [
      "10110000110000110111001111010001111010111101000100: 52.00%\n",
      "11101111011111111011110100010110000011000000001001: 54.00%\n",
      "01101010111000111001011010100101100101011101110011: 56.00%\n",
      "11100101011100010101101110110000000111001001100101: 50.00%\n",
      "11010011100010011101110010110001010000100100010000: 42.00%\n",
      "10001000001000111110111110110101000001001010010101: 46.00%\n",
      "10000000110101000001100001110110111101111101000100: 46.00%\n",
      "11100100000111100111110001110110111100001001101000: 52.00%\n",
      "00110101010011010001011000111000101110000100011100: 44.00%\n",
      "00011010110001101010010001100111100110010000011001: 44.00%\n",
      "10\n"
     ]
    }
   ],
   "source": [
    "fitness = lab9_lib.make_problem(1)\n",
    "for n in range(10):\n",
    "    ind = choices([0, 1], k=50)\n",
    "    print(f\"{''.join(str(g) for g in ind)}: {fitness(ind):.2%}\")\n",
    "\n",
    "print(fitness.calls)"
   ]
  }
 ],
 "metadata": {
  "kernelspec": {
   "display_name": "ci-fLJ3OwGs-py3.12",
   "language": "python",
   "name": "python3"
  },
  "language_info": {
   "codemirror_mode": {
    "name": "ipython",
    "version": 3
   },
   "file_extension": ".py",
   "mimetype": "text/x-python",
   "name": "python",
   "nbconvert_exporter": "python",
   "pygments_lexer": "ipython3",
   "version": "3.12.0"
  }
 },
 "nbformat": 4,
 "nbformat_minor": 2
}

{
 "cells": [
  {
   "cell_type": "markdown",
   "metadata": {},
   "source": [
    "Copyright **`(c)`** 2023 Giovanni Squillero `<giovanni.squillero@polito.it>`  \n",
    "[`https://github.com/squillero/computational-intelligence`](https://github.com/squillero/computational-intelligence)  \n",
    "Free for personal or classroom use; see [`LICENSE.md`](https://github.com/squillero/computational-intelligence/blob/master/LICENSE.md) for details.  "
   ]
  },
  {
   "cell_type": "markdown",
   "metadata": {},
   "source": [
    "# LAB9\n",
    "\n",
    "Write a local-search algorithm (eg. an EA) able to solve the *Problem* instances 1, 2, 5, and 10 on a 1000-loci genomes, using a minimum number of fitness calls. That's all.\n",
    "\n",
    "### Deadlines:\n",
    "\n",
    "* Submission: Sunday, December 3 ([CET](https://www.timeanddate.com/time/zones/cet))\n",
    "* Reviews: Sunday, December 10 ([CET](https://www.timeanddate.com/time/zones/cet))\n",
    "\n",
    "Notes:\n",
    "\n",
    "* Reviews will be assigned  on Monday, December 4\n",
    "* You need to commit in order to be selected as a reviewer (ie. better to commit an empty work than not to commit)"
   ]
  },
  {
   "cell_type": "code",
   "execution_count": 52,
   "metadata": {},
   "outputs": [],
   "source": [
    "import random\n",
    "from random import choices\n",
    "from copy import copy\n",
    "import numpy as np\n",
    "import lab9_lib"
   ]
  },
  {
   "cell_type": "markdown",
   "metadata": {},
   "source": [
    "# Local Search:\n",
    "Local search is a heuristic method for solving computationally hard optimization problems. Local search can be used on problems that can be formulated as finding a solution maximizing a criterion among a number of candidate solutions. Local search algorithms move from solution to solution in the space of candidate solutions (the search space) by applying local changes, until a solution deemed optimal is found or a time bound is elapsed."
   ]
  },
  {
   "cell_type": "code",
   "execution_count": 53,
   "metadata": {},
   "outputs": [],
   "source": [
    "l = 1000\n",
    "problems = [1, 2, 5, 10]\n",
    "half_pop_size = 5\n",
    "µ = 2 * half_pop_size"
   ]
  },
  {
   "cell_type": "markdown",
   "metadata": {},
   "source": [
    "## Implementation:\n",
    "Idea: with the fitness function I can see which pieces of string are important and which are not, and therefore I can preserve the important pieces and throw away the useless ones.\n",
    "\n",
    "IMPORTANT: PROMOTE DIVERSITY (I can do it in the selection, crossover and mutation)\n",
    "* distance metric: \n",
    "  - how far the individual is from a subset of the population to the whole population\n",
    "  - from a single individual\n",
    "* property of the population\n",
    "\n",
    "3 levels of diversity:\n",
    "* phenotype\n",
    "* genotype\n",
    "* fitness"
   ]
  },
  {
   "cell_type": "code",
   "execution_count": 54,
   "metadata": {},
   "outputs": [],
   "source": [
    "# invece che fare find distribution potrei fare direttamente una funzione che mi prende inf e sup di ogni serie consecutiva di 1\n",
    "# oppure fare direttamente l'and bit a bit e contare il numero di 1\n",
    "\n",
    "# Evaluate diversity\n",
    "def evaluate_diversity(e1, e2):\n",
    "    cnt = 0\n",
    "    for b1, b2 in zip(e1, e2):\n",
    "        if b1 and b2:\n",
    "            cnt = cnt + 1 \n",
    "    return cnt / len(e1)\n"
   ]
  },
  {
   "cell_type": "code",
   "execution_count": 55,
   "metadata": {},
   "outputs": [],
   "source": [
    "def init_population():\n",
    "    return [(choices([0, 1], k=l), 0.0) for _ in range(µ)]\n",
    "\n",
    "def evaluate_population(population, fitness):\n",
    "    return [(individual[0], fitness(individual[0])) for individual in population]\n",
    "\n",
    "def select_with_replacement(population):\n",
    "    # select a random individual from the population\n",
    "    # find the individual with \n",
    "    # the highest fitness, \n",
    "    # the vector with the most distinct distribution of ones compared to the others\n",
    "    div_matr = np.zeros((len(population), len(population)))\n",
    "    for i1, p1 in enumerate(population):\n",
    "        for i2, p2 in enumerate(population):\n",
    "            if i1 != i2:\n",
    "                #the matrix is not symmetric since is added only for p2[1]\n",
    "                div_matr[i1][i2] = (evaluate_diversity(p1[0], p2[0]) + p2[1]) / 2\n",
    "\n",
    "    # find index of the individuals with highest fitness and highest diversity\n",
    "    i1, i2 = np.unravel_index(np.argmax(div_matr), div_matr.shape)\n",
    "\n",
    "    return population[i1], population[i2]\n",
    "\n",
    "def crossover(parent1, parent2):\n",
    "    # a two (rand) point crossover for now\n",
    "    # swapping of two substrings of the same len but in random position\n",
    "    # I want try to implement a circular translated swapping\n",
    "    v = parent1[0]\n",
    "    w = parent2[0]\n",
    "    c = random.randint(0, l)\n",
    "    d = random.randint(0, l)\n",
    "    if c > d:\n",
    "        c, d = d, c\n",
    "    if c != d:\n",
    "        v[c:d], w[c:d] = w[c:d], v[c:d]\n",
    "    return (v, 0.0), (w, 0.0)\n",
    "\n",
    "def mutate(individual):\n",
    "    # bit flip mutation for now\n",
    "    p = 0.5\n",
    "    v = individual[0]\n",
    "    for i in range(l):\n",
    "        if p >= random.random():\n",
    "            v[i] = 1 - v[i]\n",
    "    return individual\n"
   ]
  },
  {
   "cell_type": "code",
   "execution_count": 56,
   "metadata": {},
   "outputs": [],
   "source": [
    "def genetic_algorithm(fitness):\n",
    "    Best = None\n",
    "    # 1. Initialize population\n",
    "    population = init_population()\n",
    "    population = evaluate_population(population, fitness)\n",
    "    # 2. Repeat\n",
    "    found = -1\n",
    "    for i in range(100):\n",
    "        for p in population:\n",
    "            if Best is None or p[1] > Best[1]:\n",
    "                Best = p\n",
    "                found = fitness._calls\n",
    "        \n",
    "        if Best is not None and Best[1]==1:\n",
    "            break\n",
    "        \n",
    "        q = list()\n",
    "        for _ in range(µ//2):\n",
    "            # 2.1 Select parents\n",
    "            parent_a, parent_b = select_with_replacement(population)\n",
    "            # 2.2 Crossover\n",
    "            child_a, child_b = crossover(copy(parent_a), copy(parent_b))\n",
    "            \n",
    "            # 2.3 Mutate\n",
    "            mutated_a = mutate(child_a)\n",
    "            mutated_b = mutate(child_b)\n",
    "            q.append(mutated_a)\n",
    "            q.append(mutated_b)\n",
    "            \n",
    "        population = evaluate_population(q, fitness)\n",
    "    \n",
    "    # 4. Return best individual\n",
    "    return Best, found"
   ]
  },
  {
   "cell_type": "code",
   "execution_count": 57,
   "metadata": {},
   "outputs": [
    {
     "name": "stdout",
     "output_type": "stream",
     "text": [
      "Problem\t1:\t53.50%,\tCalls:\t1010,\tBest found at \t790 fitness calls\n",
      "Problem\t2:\t51.20%,\tCalls:\t1010,\tBest found at \t790 fitness calls\n",
      "Problem\t5:\t30.14%,\tCalls:\t1010,\tBest found at \t790 fitness calls\n",
      "Problem\t10:\t24.96%,\tCalls:\t1010,\tBest found at \t790 fitness calls\n",
      "-------------------------------------\n",
      "Problem\t1:\t53.30%,\tCalls:\t1010,\tBest found at \t680 fitness calls\n",
      "Problem\t2:\t49.20%,\tCalls:\t1010,\tBest found at \t680 fitness calls\n",
      "Problem\t5:\t21.06%,\tCalls:\t1010,\tBest found at \t680 fitness calls\n",
      "Problem\t10:\t20.64%,\tCalls:\t1010,\tBest found at \t680 fitness calls\n",
      "-------------------------------------\n",
      "Problem\t1:\t53.60%,\tCalls:\t1010,\tBest found at \t500 fitness calls\n",
      "Problem\t2:\t51.00%,\tCalls:\t1010,\tBest found at \t500 fitness calls\n",
      "Problem\t5:\t21.51%,\tCalls:\t1010,\tBest found at \t500 fitness calls\n",
      "Problem\t10:\t16.23%,\tCalls:\t1010,\tBest found at \t500 fitness calls\n",
      "-------------------------------------\n"
     ]
    }
   ],
   "source": [
    "for _ in range(3):\n",
    "    my_list = list()\n",
    "    found = -1\n",
    "    fitness = None\n",
    "    for prob in problems:\n",
    "        fitness = lab9_lib.make_problem(prob)\n",
    "        b, found = genetic_algorithm(fitness)\n",
    "        my_list.append((prob, b[1], fitness.calls))\n",
    "    for m in my_list:\n",
    "        print(f\"Problem\\t{m[0]}:\\t{m[1]:.2%},\\tCalls:\\t{m[2]},\\tBest found at \\t{found} fitness calls\")\n",
    "    print(\"-------------------------------------\")"
   ]
  },
  {
   "cell_type": "code",
   "execution_count": 58,
   "metadata": {},
   "outputs": [
    {
     "name": "stdout",
     "output_type": "stream",
     "text": [
      "11111...: 51.00%\n",
      "10010...: 47.20%\n",
      "11010...: 51.10%\n",
      "00000...: 49.70%\n",
      "10110...: 50.00%\n",
      "00101...: 50.70%\n",
      "01110...: 50.30%\n",
      "10100...: 49.40%\n",
      "10100...: 50.70%\n",
      "00011...: 49.20%\n",
      "10\n"
     ]
    }
   ],
   "source": [
    "fitness = lab9_lib.make_problem(1)\n",
    "for n in range(10):\n",
    "    ind = choices([0, 1], k=1000)\n",
    "    print(f\"{''.join(str(g) for g in ind[0:5])}...: {fitness(ind):.2%}\")\n",
    "\n",
    "print(fitness.calls)"
   ]
  },
  {
   "cell_type": "code",
   "execution_count": 59,
   "metadata": {},
   "outputs": [
    {
     "name": "stdout",
     "output_type": "stream",
     "text": [
      "00010000000101001001100101010000110001111100000011: 36.00%\n",
      "10000110000111000110010001011100111001011100001110: 46.00%\n",
      "10010001011101111100101010001001111011100000011000: 48.00%\n",
      "10000111000010010110101001001100010100100110011101: 44.00%\n",
      "10010001010010111001111100001011111101001100001101: 52.00%\n",
      "01100000011000110100100001111101111110000110110011: 50.00%\n",
      "01011010101010101011111001001000001101111100111000: 52.00%\n",
      "00001111111011101011110001010100001010100011110011: 54.00%\n",
      "01010111011010100010100011100001000010110010101010: 44.00%\n",
      "11100011100010011011010000110110110010100011001011: 50.00%\n",
      "10\n"
     ]
    }
   ],
   "source": [
    "fitness = lab9_lib.make_problem(1)\n",
    "for n in range(10):\n",
    "    ind = choices([0, 1], k=50)\n",
    "    print(f\"{''.join(str(g) for g in ind)}: {fitness(ind):.2%}\")\n",
    "\n",
    "print(fitness.calls)"
   ]
  }
 ],
 "metadata": {
  "kernelspec": {
   "display_name": "ci-fLJ3OwGs-py3.12",
   "language": "python",
   "name": "python3"
  },
  "language_info": {
   "codemirror_mode": {
    "name": "ipython",
    "version": 3
   },
   "file_extension": ".py",
   "mimetype": "text/x-python",
   "name": "python",
   "nbconvert_exporter": "python",
   "pygments_lexer": "ipython3",
   "version": "3.12.0"
  }
 },
 "nbformat": 4,
 "nbformat_minor": 2
}

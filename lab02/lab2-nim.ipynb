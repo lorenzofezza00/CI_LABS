{
 "cells": [
  {
   "cell_type": "markdown",
   "metadata": {
    "pycharm": {
     "name": "#%% md\n"
    }
   },
   "source": [
    "Copyright **`(c)`** 2022 Giovanni Squillero `<squillero@polito.it>`  \n",
    "[`https://github.com/squillero/computational-intelligence`](https://github.com/squillero/computational-intelligence)  \n",
    "Free for personal or classroom use; see [`LICENSE.md`](https://github.com/squillero/computational-intelligence/blob/master/LICENSE.md) for details.  \n"
   ]
  },
  {
   "cell_type": "markdown",
   "metadata": {
    "pycharm": {
     "name": "#%%\n"
    }
   },
   "source": [
    "# Lab 2: ES\n",
    "\n",
    "## Task\n",
    "\n",
    "Write agents able to play [*Nim*](https://en.wikipedia.org/wiki/Nim), with an arbitrary number of rows and an upper bound $k$ on the number of objects that can be removed in a turn (a.k.a., *subtraction game*).\n",
    "\n",
    "The goal of the game is to **avoid** taking the last object.\n",
    "\n",
    "* Task2.1: An agent using fixed rules based on *nim-sum* (i.e., an *expert system*)\n",
    "* Task2.2: An agent using evolved rules using ES\n",
    "\n",
    "## Instructions\n",
    "\n",
    "* Create the directory `lab2` inside your personal course repository for the course \n",
    "* Put a `README.md` and your solution (all the files, code and auxiliary data if needed)\n",
    "\n",
    "## Notes\n",
    "\n",
    "* Working in group is not only allowed, but recommended (see: [Ubuntu](https://en.wikipedia.org/wiki/Ubuntu_philosophy) and [Cooperative Learning](https://files.eric.ed.gov/fulltext/EJ1096789.pdf)). Collaborations must be explicitly declared in the `README.md`.\n",
    "* [Yanking](https://www.emacswiki.org/emacs/KillingAndYanking) from the internet is allowed, but sources must be explicitly declared in the `README.md`.\n",
    "\n"
   ]
  },
  {
   "cell_type": "code",
   "execution_count": 1,
   "metadata": {},
   "outputs": [],
   "source": [
    "import logging\n",
    "from pprint import pprint, pformat\n",
    "from collections import namedtuple\n",
    "import random\n",
    "from copy import deepcopy\n",
    "from tqdm.notebook import tqdm\n"
   ]
  },
  {
   "cell_type": "markdown",
   "metadata": {},
   "source": [
    "## The *Nim* and *Nimply* classes"
   ]
  },
  {
   "cell_type": "code",
   "execution_count": 2,
   "metadata": {},
   "outputs": [],
   "source": [
    "Nimply = namedtuple(\"Nimply\", \"row, num_objects\")\n"
   ]
  },
  {
   "cell_type": "code",
   "execution_count": 3,
   "metadata": {},
   "outputs": [],
   "source": [
    "class Nim:\n",
    "    def __init__(self, num_rows: int, k: int = None) -> None:\n",
    "        self._rows = [i * 2 + 1 for i in range(num_rows)]\n",
    "        self._k = k\n",
    "\n",
    "    def __bool__(self):\n",
    "        return sum(self._rows) > 0\n",
    "\n",
    "    def __str__(self):\n",
    "        return \"<\" + \" \".join(str(_) for _ in self._rows) + \">\"\n",
    "\n",
    "    @property\n",
    "    def rows(self) -> tuple:\n",
    "        return tuple(self._rows)\n",
    "\n",
    "    def nimming(self, ply: Nimply) -> None:\n",
    "        row, num_objects = ply\n",
    "        assert self._rows[row] >= num_objects\n",
    "        assert self._k is None or num_objects <= self._k\n",
    "        self._rows[row] -= num_objects\n"
   ]
  },
  {
   "cell_type": "markdown",
   "metadata": {},
   "source": [
    "## Sample (and silly) startegies "
   ]
  },
  {
   "cell_type": "code",
   "execution_count": 4,
   "metadata": {},
   "outputs": [],
   "source": [
    "def pure_random(state: Nim) -> Nimply:\n",
    "    \"\"\"A completely random move\"\"\"\n",
    "    row = random.choice([r for r, c in enumerate(state.rows) if c > 0])\n",
    "    num_objects = random.randint(1, state.rows[row])\n",
    "    return Nimply(row, num_objects)\n"
   ]
  },
  {
   "cell_type": "code",
   "execution_count": 5,
   "metadata": {},
   "outputs": [],
   "source": [
    "def gabriele(state: Nim) -> Nimply:\n",
    "    \"\"\"Pick always the maximum possible number of the lowest row\"\"\"\n",
    "    possible_moves = [(r, o) for r, c in enumerate(state.rows) for o in range(1, c + 1)]\n",
    "    return Nimply(*max(possible_moves, key=lambda m: (-m[0], m[1])))\n"
   ]
  },
  {
   "cell_type": "code",
   "execution_count": 6,
   "metadata": {},
   "outputs": [],
   "source": [
    "import numpy as np\n",
    "\n",
    "\n",
    "def nim_sum(state: Nim) -> int:\n",
    "    tmp = np.array([tuple(int(x) for x in f\"{c:032b}\") for c in state.rows])\n",
    "    xor = tmp.sum(axis=0) % 2\n",
    "    return int(\"\".join(str(_) for _ in xor), base=2)\n",
    "\n",
    "\n",
    "def analize(raw: Nim) -> dict:\n",
    "    cooked = dict()\n",
    "    cooked[\"possible_moves\"] = dict()\n",
    "    for ply in (Nimply(r, o) for r, c in enumerate(raw.rows) for o in range(1, c + 1)):\n",
    "        tmp = deepcopy(raw)\n",
    "        tmp.nimming(ply)\n",
    "        cooked[\"possible_moves\"][ply] = nim_sum(tmp)\n",
    "    return cooked\n",
    "\n",
    "\n",
    "def optimal(state: Nim) -> Nimply:\n",
    "    analysis = analize(state)\n",
    "    logging.debug(f\"analysis:\\n{pformat(analysis)}\")\n",
    "    spicy_moves = [ply for ply, ns in analysis[\"possible_moves\"].items() if ns != 0]\n",
    "    if not spicy_moves:\n",
    "        spicy_moves = list(analysis[\"possible_moves\"].keys())\n",
    "    ply = random.choice(spicy_moves)\n",
    "    return ply\n"
   ]
  },
  {
   "cell_type": "code",
   "execution_count": 7,
   "metadata": {},
   "outputs": [],
   "source": [
    "import numpy as np\n",
    "\n",
    "def my_strategy(state: Nim, weights) -> Nimply:\n",
    "    #spicy_moves = [Nimply(r, o) for r, c in enumerate(state.rows) for o in range(1, c + 1)]\n",
    "    spicy_moves = [Nimply(r, o) for r, c in enumerate(state.rows) for o in range(1, c + 1) if c > 0]\n",
    "    # for each value of weights, assign a decision to take\n",
    "    #       for example:\n",
    "    #       0: take all the elements from the row with the most objects\n",
    "    #       1: take one item from the row with less objects\n",
    "    #       else: take a random row\n",
    "    \n",
    "    rule = np.random.choice(len(weights), p=weights)\n",
    "    if rule == 0:\n",
    "        return max(spicy_moves, key=lambda move: move.num_objects)\n",
    "    if rule == 1:\n",
    "        return min(spicy_moves, key=lambda move: move.num_objects)\n",
    "    return random.choice(spicy_moves)"
   ]
  },
  {
   "cell_type": "code",
   "execution_count": 8,
   "metadata": {},
   "outputs": [
    {
     "data": {
      "application/vnd.jupyter.widget-view+json": {
       "model_id": "4671bf1cc7324ffc8071d1ef15e744a6",
       "version_major": 2,
       "version_minor": 0
      },
      "text/plain": [
       "  0%|          | 0/300 [00:00<?, ?it/s]"
      ]
     },
     "metadata": {},
     "output_type": "display_data"
    },
    {
     "name": "stdout",
     "output_type": "stream",
     "text": [
      "Best weights: [0.83047455 0.04357077 0.12595467], fitness: 55.00000000000001, sigma: 1.0554394132007276\n",
      "Best weights: [0.07527563 0.70148788 0.22323649], fitness: 60.0, sigma: 1.1325762380111217\n",
      "Best weights: [0.79261471 0.04710348 0.16028182], fitness: 65.0, sigma: 1.0653222886169835\n",
      "Best weights: [0.13213505 0.77665905 0.0912059 ], fitness: 70.0, sigma: 0.761640141714673\n",
      "Best weights: [0.13213505 0.77665905 0.0912059 ], fitness: 70.0, sigma: 0.761640141714673\n"
     ]
    },
    {
     "data": {
      "image/png": "[encoded data removed]",
      "text/plain": [
       "<Figure size 1400x400 with 1 Axes>"
      ]
     },
     "metadata": {},
     "output_type": "display_data"
    }
   ],
   "source": [
    "from matplotlib import pyplot as plt\n",
    "\n",
    "mu = 5  # number of population\n",
    "lamb = 5 * mu  # size of children\n",
    "sigma = 1  # mutation strength\n",
    "trainings = 20  # number of training games per candidate\n",
    "N_ROWS = 5  # number of rows in the game\n",
    "\n",
    "strategy = (optimal, my_strategy)\n",
    "\n",
    "def fitness( weights) -> float:\n",
    "    \"\"\"The fitness function\"\"\"\n",
    "    win_cnt = 0 # number of wins for the candidate\n",
    "    for _ in range(trainings):\n",
    "        nim =  Nim(N_ROWS)\n",
    "        player = 0\n",
    "        while nim:\n",
    "            if player == 0:\n",
    "                ply = strategy[player](nim)\n",
    "            else:\n",
    "                ply = strategy[player](nim, weights)\n",
    "            nim.nimming(ply)\n",
    "            player = 1 - player\n",
    "        if player == 1:\n",
    "            win_cnt += 1\n",
    "    return win_cnt / trainings * 100\n",
    "\n",
    "def mutation(P):\n",
    "    \"\"\"Mutate the population\"\"\"\n",
    "    offspring = []\n",
    "    for i in P:\n",
    "        for _ in range(lamb//mu):\n",
    "            sigma = np.abs(np.random.normal(loc=i[2], scale=0.2))\n",
    "            mutated_weights = np.abs(np.random.normal(loc=i[0], scale=sigma))\n",
    "            mutated_weights /= sum(mutated_weights) #normalizing weights\n",
    "            mutated_fitness = fitness(mutated_weights)\n",
    "            offspring.append((mutated_weights, mutated_fitness, sigma))\n",
    "    return offspring\n",
    "\n",
    "def ES():\n",
    "    P = []\n",
    "    history = list()\n",
    "    \n",
    "    #initialize population\n",
    "    for _ in range(mu):\n",
    "        weights = np.random.dirichlet(np.ones(3))   # because I'm using 3 rules\n",
    "        fit = fitness(weights)\n",
    "        # print(fit)\n",
    "        P.append((weights, fit, sigma))\n",
    "    \n",
    "    Best = None\n",
    "    for step in tqdm(range(300)):\n",
    "        offspring = P + mutation(P) # (mu + lambda) strategy\n",
    "        offspring = sorted(offspring, key=lambda i : i[1])\n",
    "        if Best is None or offspring[-1][1] > Best[1]:\n",
    "            Best = offspring[-1]\n",
    "            print(f\"Best weights: {Best[0]}, fitness: {Best[1]}, sigma: {Best[2]}\")\n",
    "            history.append((step, Best[1]))\n",
    "        P = offspring[-mu :]\n",
    "    history = np.array(history)\n",
    "    plt.figure(figsize=(14, 4))\n",
    "    plt.plot(history[:, 0], history[:, 1], marker=\".\")\n",
    "    return Best    \n",
    "        \n",
    "genome = ES()\n",
    "print(f\"Best weights: {genome[0]}, fitness: {genome[1]}, sigma: {genome[2]}\")\n",
    "\n",
    "#ottengo un risultato strano in fitness, non é che non va bene che non faccio copy?\n",
    "\n",
    "def adaptive(state: Nim) -> Nimply:\n",
    "    \"\"\"A strategy that can adapt its parameters\"\"\"\n",
    "    return my_strategy(state, genome[0])\n"
   ]
  },
  {
   "cell_type": "markdown",
   "metadata": {},
   "source": [
    "## Oversimplified match\n",
    "\n",
    "In this version of the nim game, the loser is the last player to take the last item. So, the goal of the player is to avoid taking the last item."
   ]
  },
  {
   "cell_type": "code",
   "execution_count": 9,
   "metadata": {},
   "outputs": [
    {
     "name": "stderr",
     "output_type": "stream",
     "text": [
      "INFO:root:init : <1 3 5 7 9>\n",
      "INFO:root:ply: player 0 plays Nimply(row=3, num_objects=6)\n",
      "INFO:root:status: <1 3 5 1 9>\n",
      "INFO:root:ply: player 1 plays Nimply(row=3, num_objects=1)\n",
      "INFO:root:status: <1 3 5 0 9>\n",
      "INFO:root:ply: player 0 plays Nimply(row=4, num_objects=9)\n",
      "INFO:root:status: <1 3 5 0 0>\n",
      "INFO:root:ply: player 1 plays Nimply(row=2, num_objects=3)\n",
      "INFO:root:status: <1 3 2 0 0>\n",
      "INFO:root:ply: player 0 plays Nimply(row=1, num_objects=3)\n",
      "INFO:root:status: <1 0 2 0 0>\n",
      "INFO:root:ply: player 1 plays Nimply(row=2, num_objects=1)\n",
      "INFO:root:status: <1 0 1 0 0>\n",
      "INFO:root:ply: player 0 plays Nimply(row=0, num_objects=1)\n",
      "INFO:root:status: <0 0 1 0 0>\n",
      "INFO:root:ply: player 1 plays Nimply(row=2, num_objects=1)\n",
      "INFO:root:status: <0 0 0 0 0>\n",
      "INFO:root:status: Player 0 won!\n"
     ]
    }
   ],
   "source": [
    "logging.getLogger().setLevel(logging.INFO)\n",
    "\n",
    "strategy = (optimal, pure_random)\n",
    "\n",
    "nim = Nim(5)\n",
    "logging.info(f\"init : {nim}\")\n",
    "player = 0\n",
    "while nim:\n",
    "    ply = strategy[player](nim)\n",
    "    logging.info(f\"ply: player {player} plays {ply}\")\n",
    "    nim.nimming(ply)\n",
    "    logging.info(f\"status: {nim}\")\n",
    "    player = 1 - player\n",
    "logging.info(f\"status: Player {player} won!\")\n"
   ]
  },
  {
   "cell_type": "markdown",
   "metadata": {},
   "source": [
    "## Optimal vs Adaptive test"
   ]
  },
  {
   "cell_type": "code",
   "execution_count": 10,
   "metadata": {},
   "outputs": [
    {
     "name": "stderr",
     "output_type": "stream",
     "text": [
      "INFO:root:init : <1 3 5 7 9>\n",
      "INFO:root:ply: player 0 plays Nimply(row=3, num_objects=1)\n",
      "INFO:root:status: <1 3 5 6 9>\n",
      "INFO:root:ply: player 1 plays Nimply(row=0, num_objects=1)\n",
      "INFO:root:status: <0 3 5 6 9>\n",
      "INFO:root:ply: player 0 plays Nimply(row=3, num_objects=2)\n",
      "INFO:root:status: <0 3 5 4 9>\n",
      "INFO:root:ply: player 1 plays Nimply(row=1, num_objects=1)\n",
      "INFO:root:status: <0 2 5 4 9>\n",
      "INFO:root:ply: player 0 plays Nimply(row=4, num_objects=1)\n",
      "INFO:root:status: <0 2 5 4 8>\n",
      "INFO:root:ply: player 1 plays Nimply(row=1, num_objects=1)\n",
      "INFO:root:status: <0 1 5 4 8>\n",
      "INFO:root:ply: player 0 plays Nimply(row=2, num_objects=5)\n",
      "INFO:root:status: <0 1 0 4 8>\n",
      "INFO:root:ply: player 1 plays Nimply(row=1, num_objects=1)\n",
      "INFO:root:status: <0 0 0 4 8>\n",
      "INFO:root:ply: player 0 plays Nimply(row=4, num_objects=5)\n",
      "INFO:root:status: <0 0 0 4 3>\n",
      "INFO:root:ply: player 1 plays Nimply(row=3, num_objects=1)\n",
      "INFO:root:status: <0 0 0 3 3>\n",
      "INFO:root:ply: player 0 plays Nimply(row=4, num_objects=2)\n",
      "INFO:root:status: <0 0 0 3 1>\n",
      "INFO:root:ply: player 1 plays Nimply(row=3, num_objects=1)\n",
      "INFO:root:status: <0 0 0 2 1>\n",
      "INFO:root:ply: player 0 plays Nimply(row=4, num_objects=1)\n",
      "INFO:root:status: <0 0 0 2 0>\n",
      "INFO:root:ply: player 1 plays Nimply(row=3, num_objects=1)\n",
      "INFO:root:status: <0 0 0 1 0>\n",
      "INFO:root:ply: player 0 plays Nimply(row=3, num_objects=1)\n",
      "INFO:root:status: <0 0 0 0 0>\n",
      "INFO:root:status: Player 1 won!\n",
      "INFO:root:Winning percentage againist optimal: 34\n"
     ]
    }
   ],
   "source": [
    "logging.getLogger().setLevel(logging.INFO)\n",
    "\n",
    "strategy = (optimal, adaptive)\n",
    "\n",
    "nim = Nim(N_ROWS)\n",
    "\n",
    "logging.info(f\"init : {nim}\")\n",
    "player = 0\n",
    "while nim:\n",
    "    ply = strategy[player](nim)\n",
    "    logging.info(f\"ply: player {player} plays {ply}\")\n",
    "    nim.nimming(ply)\n",
    "    logging.info(f\"status: {nim}\")\n",
    "    player = 1 - player\n",
    "logging.info(f\"status: Player {player} won!\")\n",
    "\n",
    "cnt = 0\n",
    "\n",
    "for _ in range(100):\n",
    "    nim = Nim(N_ROWS)\n",
    "    # logging.info(f\"init : {nim}\")\n",
    "    player = 0\n",
    "    while nim:\n",
    "        ply = strategy[player](nim)\n",
    "        # logging.info(f\"ply: player {player} plays {ply}\")\n",
    "        nim.nimming(ply)\n",
    "        # logging.info(f\"status: {nim}\")\n",
    "        player = 1 - player\n",
    "    # logging.info(f\"status: Player {player} won!\")\n",
    "    if player == 1:\n",
    "        cnt += 1\n",
    "logging.info(f\"Winning percentage againist optimal: {cnt}\")"
   ]
  },
  {
   "cell_type": "markdown",
   "metadata": {},
   "source": [
    "## Pure_random vs Adaptive test"
   ]
  },
  {
   "cell_type": "code",
   "execution_count": 11,
   "metadata": {},
   "outputs": [
    {
     "name": "stderr",
     "output_type": "stream",
     "text": [
      "INFO:root:init : <1 3 5 7 9>\n",
      "INFO:root:ply: player 0 plays Nimply(row=2, num_objects=2)\n",
      "INFO:root:status: <1 3 3 7 9>\n",
      "INFO:root:ply: player 1 plays Nimply(row=0, num_objects=1)\n",
      "INFO:root:status: <0 3 3 7 9>\n",
      "INFO:root:ply: player 0 plays Nimply(row=4, num_objects=8)\n",
      "INFO:root:status: <0 3 3 7 1>\n",
      "INFO:root:ply: player 1 plays Nimply(row=1, num_objects=1)\n",
      "INFO:root:status: <0 2 3 7 1>\n",
      "INFO:root:ply: player 0 plays Nimply(row=3, num_objects=3)\n",
      "INFO:root:status: <0 2 3 4 1>\n",
      "INFO:root:ply: player 1 plays Nimply(row=1, num_objects=1)\n",
      "INFO:root:status: <0 1 3 4 1>\n",
      "INFO:root:ply: player 0 plays Nimply(row=1, num_objects=1)\n",
      "INFO:root:status: <0 0 3 4 1>\n",
      "INFO:root:ply: player 1 plays Nimply(row=2, num_objects=1)\n",
      "INFO:root:status: <0 0 2 4 1>\n",
      "INFO:root:ply: player 0 plays Nimply(row=3, num_objects=1)\n",
      "INFO:root:status: <0 0 2 3 1>\n",
      "INFO:root:ply: player 1 plays Nimply(row=2, num_objects=1)\n",
      "INFO:root:status: <0 0 1 3 1>\n",
      "INFO:root:ply: player 0 plays Nimply(row=2, num_objects=1)\n",
      "INFO:root:status: <0 0 0 3 1>\n",
      "INFO:root:ply: player 1 plays Nimply(row=3, num_objects=1)\n",
      "INFO:root:status: <0 0 0 2 1>\n",
      "INFO:root:ply: player 0 plays Nimply(row=3, num_objects=2)\n",
      "INFO:root:status: <0 0 0 0 1>\n",
      "INFO:root:ply: player 1 plays Nimply(row=4, num_objects=1)\n",
      "INFO:root:status: <0 0 0 0 0>\n",
      "INFO:root:status: Player 0 won!\n",
      "INFO:root:Winning percentage againist pure_random: 61\n"
     ]
    }
   ],
   "source": [
    "logging.getLogger().setLevel(logging.INFO)\n",
    "\n",
    "strategy = (pure_random, adaptive)\n",
    "\n",
    "nim = Nim(N_ROWS)\n",
    "\n",
    "logging.info(f\"init : {nim}\")\n",
    "player = 0\n",
    "while nim:\n",
    "    ply = strategy[player](nim)\n",
    "    logging.info(f\"ply: player {player} plays {ply}\")\n",
    "    nim.nimming(ply)\n",
    "    logging.info(f\"status: {nim}\")\n",
    "    player = 1 - player\n",
    "logging.info(f\"status: Player {player} won!\")\n",
    "\n",
    "cnt = 0\n",
    "\n",
    "for _ in range(100):\n",
    "    nim = Nim(N_ROWS)\n",
    "    # logging.info(f\"init : {nim}\")\n",
    "    player = 0\n",
    "    while nim:\n",
    "        ply = strategy[player](nim)\n",
    "        # logging.info(f\"ply: player {player} plays {ply}\")\n",
    "        nim.nimming(ply)\n",
    "        # logging.info(f\"status: {nim}\")\n",
    "        player = 1 - player\n",
    "    # logging.info(f\"status: Player {player} won!\")\n",
    "    if player == 1:\n",
    "        cnt += 1\n",
    "logging.info(f\"Winning percentage againist pure_random: {cnt}\")"
   ]
  },
  {
   "cell_type": "markdown",
   "metadata": {},
   "source": [
    "## Gabriele vs Adaptive test"
   ]
  },
  {
   "cell_type": "code",
   "execution_count": 12,
   "metadata": {},
   "outputs": [
    {
     "name": "stderr",
     "output_type": "stream",
     "text": [
      "INFO:root:init : <1 3 5 7 9>\n",
      "INFO:root:ply: player 0 plays Nimply(row=0, num_objects=1)\n",
      "INFO:root:status: <0 3 5 7 9>\n",
      "INFO:root:ply: player 1 plays Nimply(row=1, num_objects=1)\n",
      "INFO:root:status: <0 2 5 7 9>\n",
      "INFO:root:ply: player 0 plays Nimply(row=1, num_objects=2)\n",
      "INFO:root:status: <0 0 5 7 9>\n",
      "INFO:root:ply: player 1 plays Nimply(row=2, num_objects=1)\n",
      "INFO:root:status: <0 0 4 7 9>\n",
      "INFO:root:ply: player 0 plays Nimply(row=2, num_objects=4)\n",
      "INFO:root:status: <0 0 0 7 9>\n",
      "INFO:root:ply: player 1 plays Nimply(row=3, num_objects=1)\n",
      "INFO:root:status: <0 0 0 6 9>\n",
      "INFO:root:ply: player 0 plays Nimply(row=3, num_objects=6)\n",
      "INFO:root:status: <0 0 0 0 9>\n",
      "INFO:root:ply: player 1 plays Nimply(row=4, num_objects=1)\n",
      "INFO:root:status: <0 0 0 0 8>\n",
      "INFO:root:ply: player 0 plays Nimply(row=4, num_objects=8)\n",
      "INFO:root:status: <0 0 0 0 0>\n",
      "INFO:root:status: Player 1 won!\n",
      "INFO:root:Winning percentage againist gabriele: 89\n"
     ]
    }
   ],
   "source": [
    "logging.getLogger().setLevel(logging.INFO)\n",
    "\n",
    "strategy = (gabriele, adaptive)\n",
    "\n",
    "nim = Nim(N_ROWS)\n",
    "\n",
    "logging.info(f\"init : {nim}\")\n",
    "player = 0\n",
    "while nim:\n",
    "    ply = strategy[player](nim)\n",
    "    logging.info(f\"ply: player {player} plays {ply}\")\n",
    "    nim.nimming(ply)\n",
    "    logging.info(f\"status: {nim}\")\n",
    "    player = 1 - player\n",
    "logging.info(f\"status: Player {player} won!\")\n",
    "\n",
    "cnt = 0\n",
    "\n",
    "for _ in range(100):\n",
    "    nim = Nim(N_ROWS)\n",
    "    # logging.info(f\"init : {nim}\")\n",
    "    player = 0\n",
    "    while nim:\n",
    "        ply = strategy[player](nim)\n",
    "        # logging.info(f\"ply: player {player} plays {ply}\")\n",
    "        nim.nimming(ply)\n",
    "        # logging.info(f\"status: {nim}\")\n",
    "        player = 1 - player\n",
    "    # logging.info(f\"status: Player {player} won!\")\n",
    "    if player == 1:\n",
    "        cnt += 1\n",
    "logging.info(f\"Winning percentage againist gabriele: {cnt}\")"
   ]
  }
 ],
 "metadata": {
  "kernelspec": {
   "display_name": "Python 3.10.7 ('ci22-dPIXJ0_o-py3.10')",
   "language": "python",
   "name": "python3"
  },
  "language_info": {
   "codemirror_mode": {
    "name": "ipython",
    "version": 3
   },
   "file_extension": ".py",
   "mimetype": "text/x-python",
   "name": "python",
   "nbconvert_exporter": "python",
   "pygments_lexer": "ipython3",
   "version": "3.12.0"
  },
  "vscode": {
   "interpreter": {
    "hash": "10197e8e2f2aa67e2c349105091c77f4cd384fce4877865f002d9ec653f96bc0"
   }
  }
 },
 "nbformat": 4,
 "nbformat_minor": 2
}
